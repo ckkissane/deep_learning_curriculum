{
  "nbformat": 4,
  "nbformat_minor": 0,
  "metadata": {
    "colab": {
      "provenance": [],
      "authorship_tag": "ABX9TyO1n72fwcj/s+xukkwkhmrq",
      "include_colab_link": true
    },
    "kernelspec": {
      "name": "python3",
      "display_name": "Python 3"
    },
    "language_info": {
      "name": "python"
    },
    "accelerator": "GPU",
    "gpuClass": "standard"
  },
  "cells": [
    {
      "cell_type": "markdown",
      "metadata": {
        "id": "view-in-github",
        "colab_type": "text"
      },
      "source": [
        "<a href=\"https://colab.research.google.com/github/ckkissane/deep_learning_curriculum/blob/ch-5-sol/solutions/5_Modeling_Objectives.ipynb\" target=\"_parent\"><img src=\"https://colab.research.google.com/assets/colab-badge.svg\" alt=\"Open In Colab\"/></a>"
      ]
    },
    {
      "cell_type": "markdown",
      "source": [
        "# Train a contrastive CNN on MNIST."
      ],
      "metadata": {
        "id": "FflaxMaTAGj0"
      }
    },
    {
      "cell_type": "code",
      "execution_count": 63,
      "metadata": {
        "id": "ZfxAvjCvBDJV"
      },
      "outputs": [],
      "source": [
        "import torch\n",
        "import torch.nn as nn\n",
        "import torch.nn.functional as F\n",
        "from torch.utils.data import Dataset, DataLoader\n",
        "import torchvision\n",
        "import torchvision.transforms as transforms\n",
        "import random\n",
        "import numpy as np\n",
        "from tqdm import tqdm\n",
        "import matplotlib.pyplot as plt"
      ]
    },
    {
      "cell_type": "code",
      "source": [
        "def set_seed(seed):\n",
        "    random.seed(seed)\n",
        "    torch.manual_seed(seed)\n",
        "    torch.cuda.manual_seed_all(seed)\n",
        "    np.random.seed(seed)\n",
        "\n",
        "set_seed(3407)"
      ],
      "metadata": {
        "id": "XUMAZr61BUfH"
      },
      "execution_count": 64,
      "outputs": []
    },
    {
      "cell_type": "code",
      "source": [
        "# custom dataset to load pairs of examples\n",
        "class MnistPairs(Dataset):\n",
        "    def __init__(self, train=True):\n",
        "        self.torch_dataset = torchvision.datasets.MNIST(root='./data',\n",
        "                                           train=train,\n",
        "                                           transform=transforms.Compose([\n",
        "                                                  transforms.ToTensor(),\n",
        "                                                  transforms.Normalize(mean = (0.1307,), std = (0.3081,))]),\n",
        "                                           download=True)\n",
        "    \n",
        "    def __len__(self):\n",
        "        return len(self.torch_dataset)\n",
        "    \n",
        "    def __getitem__(self, idx):\n",
        "        x1, y1 = self.torch_dataset[idx]\n",
        "        # method to give matching pairs about half the time\n",
        "        # potential TODO: speed this up with pre-processing\n",
        "        same_class = random.randint(0, 1)\n",
        "        if same_class:\n",
        "            while True:\n",
        "                x2, y2 = random.choice(self.torch_dataset)\n",
        "                if y2 == y1:\n",
        "                    break\n",
        "        else:\n",
        "            while True:\n",
        "                x2, y2 = random.choice(self.torch_dataset)\n",
        "                if y2 != y1:\n",
        "                    break\n",
        "        label = torch.tensor([y1 != y2], dtype=torch.float32)\n",
        "        return (x1, y1, x2, y2, label)"
      ],
      "metadata": {
        "id": "YQhGkGDQjVy0"
      },
      "execution_count": 155,
      "outputs": []
    },
    {
      "cell_type": "code",
      "source": [
        "# define CNN model\n",
        "class CNN(nn.Module):\n",
        "    def __init__(self):\n",
        "        super().__init__()\n",
        "        self.conv1 = nn.Conv2d(1, 32, 5)\n",
        "        self.conv2 = nn.Conv2d(32, 64, 5)\n",
        "        self.linear_layers = nn.Sequential(\n",
        "            nn.Linear(1024, 1024),\n",
        "            nn.ReLU(),\n",
        "            nn.Linear(1024, 2),\n",
        "        )\n",
        "    \n",
        "    def forward(self, x):\n",
        "        x = F.max_pool2d(self.conv1(x), kernel_size=2, stride=2)\n",
        "        x = F.max_pool2d(self.conv2(x), kernel_size=2, stride=2)\n",
        "        x = x.reshape(-1, 1024)\n",
        "        x = self.linear_layers(x)\n",
        "        return x"
      ],
      "metadata": {
        "id": "e3_IwDRc8VOi"
      },
      "execution_count": 147,
      "outputs": []
    },
    {
      "cell_type": "code",
      "source": [
        "class ContrastiveLoss(nn.Module):\n",
        "    \"\"\"\n",
        "    Contrastive loss function.\n",
        "    Based on: http://yann.lecun.com/exdb/publis/pdf/hadsell-chopra-lecun-06.pdf\n",
        "    \"\"\"\n",
        "\n",
        "    def __init__(self, margin=2.0):\n",
        "        super().__init__()\n",
        "        self.margin = margin\n",
        "\n",
        "    def forward(self, output1, output2, label):\n",
        "        euclidean_distance = F.pairwise_distance(output1, output2, keepdim=True)\n",
        "        loss_contrastive = torch.mean((1-label) * torch.pow(euclidean_distance, 2) +\n",
        "                                      (label) * torch.pow(torch.clamp(self.margin - euclidean_distance, min=0.0), 2))\n",
        "        return loss_contrastive"
      ],
      "metadata": {
        "id": "O6JJC3CyhvWn"
      },
      "execution_count": 167,
      "outputs": []
    },
    {
      "cell_type": "markdown",
      "source": [
        "### Training"
      ],
      "metadata": {
        "id": "VYwGbUrdrTfY"
      }
    },
    {
      "cell_type": "code",
      "source": [
        "device = torch.device('cuda' if torch.cuda.is_available() else 'cpu')\n",
        "device"
      ],
      "metadata": {
        "colab": {
          "base_uri": "https://localhost:8080/"
        },
        "id": "efeAby3wBXRg",
        "outputId": "30de5d9b-be71-406d-af95-e20f17bbd050"
      },
      "execution_count": 136,
      "outputs": [
        {
          "output_type": "execute_result",
          "data": {
            "text/plain": [
              "device(type='cuda')"
            ]
          },
          "metadata": {},
          "execution_count": 136
        }
      ]
    },
    {
      "cell_type": "code",
      "source": [
        "pair_dataset = MnistPairs(train=True)\n",
        "pair_loader = DataLoader(pair_dataset, batch_size=128, shuffle=False)"
      ],
      "metadata": {
        "id": "m1ejzczokO38"
      },
      "execution_count": 137,
      "outputs": []
    },
    {
      "cell_type": "code",
      "source": [
        "model = CNN().to(device).train()\n",
        "criterion = ContrastiveLoss()\n",
        "optimizer = torch.optim.SGD(model.parameters(), lr=0.005)"
      ],
      "metadata": {
        "id": "17mIifHRBi2U"
      },
      "execution_count": 138,
      "outputs": []
    },
    {
      "cell_type": "code",
      "source": [
        "max_epochs = 10\n",
        "losses = []\n",
        "for epoch in range(max_epochs):\n",
        "    pbar = tqdm(enumerate(pair_loader), total=len(pair_loader))\n",
        "    for it, (x1, y1, x2, y2, label) in pbar:\n",
        "        x1 = x1.to(device)\n",
        "        out1 = model(x1)\n",
        "    \n",
        "        x2 = x2.to(device)\n",
        "        out2 = model(x2)\n",
        "    \n",
        "        optimizer.zero_grad()\n",
        "        label = label.to(device)\n",
        "        loss = criterion(out1, out2, label)\n",
        "    \n",
        "        loss.backward()\n",
        "        optimizer.step()\n",
        "    \n",
        "        losses.append(loss.item())\n",
        "        pbar.set_description(f\"epoch: {epoch}, loss: {loss.item():.5f}\")"
      ],
      "metadata": {
        "colab": {
          "base_uri": "https://localhost:8080/"
        },
        "id": "4Rp5bWxYobGN",
        "outputId": "7c75cf40-0316-46ca-d2d3-813c5bf1c715"
      },
      "execution_count": 139,
      "outputs": [
        {
          "output_type": "stream",
          "name": "stderr",
          "text": [
            "epoch: 0, loss: 0.60397: 100%|██████████| 469/469 [01:07<00:00,  6.93it/s]\n",
            "epoch: 1, loss: 0.41295: 100%|██████████| 469/469 [01:07<00:00,  6.94it/s]\n",
            "epoch: 2, loss: 0.28705: 100%|██████████| 469/469 [01:05<00:00,  7.12it/s]\n",
            "epoch: 3, loss: 0.31978: 100%|██████████| 469/469 [01:05<00:00,  7.15it/s]\n",
            "epoch: 4, loss: 0.25534: 100%|██████████| 469/469 [01:06<00:00,  7.06it/s]\n",
            "epoch: 5, loss: 0.37471: 100%|██████████| 469/469 [01:06<00:00,  7.00it/s]\n",
            "epoch: 6, loss: 0.26546: 100%|██████████| 469/469 [01:06<00:00,  7.08it/s]\n",
            "epoch: 7, loss: 0.19525: 100%|██████████| 469/469 [01:06<00:00,  7.08it/s]\n",
            "epoch: 8, loss: 0.28431: 100%|██████████| 469/469 [01:05<00:00,  7.13it/s]\n",
            "epoch: 9, loss: 0.31004: 100%|██████████| 469/469 [01:05<00:00,  7.12it/s]\n"
          ]
        }
      ]
    },
    {
      "cell_type": "code",
      "source": [
        "plt.plot(losses);\n",
        "plt.show()"
      ],
      "metadata": {
        "colab": {
          "base_uri": "https://localhost:8080/",
          "height": 265
        },
        "id": "E1wheZnjv7cf",
        "outputId": "6795369e-c23e-4062-cc8b-cfd703c08d6e"
      },
      "execution_count": 140,
      "outputs": [
        {
          "output_type": "display_data",
          "data": {
            "text/plain": [
              "<Figure size 432x288 with 1 Axes>"
            ],
            "image/png": "[encoded data removed]"
          },
          "metadata": {
            "needs_background": "light"
          }
        }
      ]
    },
    {
      "cell_type": "markdown",
      "source": [
        "# Measure the classification accuracy of your model by using a few held-out examples from each class to compare each test example to."
      ],
      "metadata": {
        "id": "wWj6Emu7PG3I"
      }
    },
    {
      "cell_type": "code",
      "source": [
        "test_dataset = MnistPairs(train=False)\n",
        "test_loader = DataLoader(test_dataset, batch_size=1, shuffle=False)"
      ],
      "metadata": {
        "id": "OAjQh-9TYL89"
      },
      "execution_count": 141,
      "outputs": []
    },
    {
      "cell_type": "code",
      "source": [
        "diffs = []\n",
        "sames = []\n",
        "for it, (x1, y1, x2, y2, label) in enumerate(test_loader):\n",
        "    x1 = x1.to(device)\n",
        "    out1 = model(x1)\n",
        "\n",
        "    x2 = x2.to(device)\n",
        "    out2 = model(x2)\n",
        "\n",
        "    dist = torch.linalg.norm(out1 - out2, ord=2)\n",
        "\n",
        "    if y1 == y2:\n",
        "        sames.append((y1, y2, dist))\n",
        "    else:\n",
        "        diffs.append((y1, y2, dist))\n",
        "\n",
        "    if it == 50:\n",
        "        break"
      ],
      "metadata": {
        "id": "nWv4l9WxQBX9"
      },
      "execution_count": 142,
      "outputs": []
    },
    {
      "cell_type": "code",
      "source": [
        "# dist should be large\n",
        "print(\"DIFFERENT\")\n",
        "for (y1, y2, dist) in diffs[:5]:\n",
        "    print(f\"y1: {y1}, y2: {y2}, dist: {dist}\")"
      ],
      "metadata": {
        "colab": {
          "base_uri": "https://localhost:8080/"
        },
        "id": "DEM43FOBQZkA",
        "outputId": "fdb74f20-2a66-487d-e576-8af4d4f5aa56"
      },
      "execution_count": 145,
      "outputs": [
        {
          "output_type": "stream",
          "name": "stdout",
          "text": [
            "DIFFERENT\n",
            "y1: tensor([7]), y2: tensor([8]), dist: 2.486117362976074\n",
            "y1: tensor([2]), y2: tensor([1]), dist: 2.0656850337982178\n",
            "y1: tensor([1]), y2: tensor([8]), dist: 2.863703727722168\n",
            "y1: tensor([1]), y2: tensor([0]), dist: 4.2741899490356445\n",
            "y1: tensor([0]), y2: tensor([2]), dist: 2.798466682434082\n"
          ]
        }
      ]
    },
    {
      "cell_type": "code",
      "source": [
        "# dist should be small\n",
        "print(\"SAME\")\n",
        "for (y1, y2, dist) in sames[:5]:\n",
        "    print(f\"y1: {y1}, y2: {y2}, dist: {dist}\")"
      ],
      "metadata": {
        "colab": {
          "base_uri": "https://localhost:8080/"
        },
        "id": "Iw-IRAf9Q8Rm",
        "outputId": "45297287-2501-4be9-d62a-3ce8b0c7b2a2"
      },
      "execution_count": 146,
      "outputs": [
        {
          "output_type": "stream",
          "name": "stdout",
          "text": [
            "SAME\n",
            "y1: tensor([0]), y2: tensor([0]), dist: 0.03381603583693504\n",
            "y1: tensor([4]), y2: tensor([4]), dist: 0.5029099583625793\n",
            "y1: tensor([4]), y2: tensor([4]), dist: 0.3329090476036072\n",
            "y1: tensor([9]), y2: tensor([9]), dist: 0.26713234186172485\n",
            "y1: tensor([5]), y2: tensor([5]), dist: 1.240917444229126\n"
          ]
        }
      ]
    }
  ]
}