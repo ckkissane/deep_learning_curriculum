{
  "nbformat": 4,
  "nbformat_minor": 0,
  "metadata": {
    "colab": {
      "provenance": [],
      "collapsed_sections": [],
      "authorship_tag": "ABX9TyM2l+ukqw+aAMGPHvsFpSE/",
      "include_colab_link": true
    },
    "kernelspec": {
      "name": "python3",
      "display_name": "Python 3"
    },
    "language_info": {
      "name": "python"
    },
    "accelerator": "GPU",
    "gpuClass": "standard"
  },
  "cells": [
    {
      "cell_type": "markdown",
      "metadata": {
        "id": "view-in-github",
        "colab_type": "text"
      },
      "source": [
        "<a href=\"https://colab.research.google.com/github/ckkissane/deep_learning_curriculum/blob/master/solutions/5_Modeling_Objectives.ipynb\" target=\"_parent\"><img src=\"https://colab.research.google.com/assets/colab-badge.svg\" alt=\"Open In Colab\"/></a>"
      ]
    },
    {
      "cell_type": "markdown",
      "source": [
        "# Train a contrastive CNN on MNIST. Hold out a few examples from each class from the training set. "
      ],
      "metadata": {
        "id": "FflaxMaTAGj0"
      }
    },
    {
      "cell_type": "code",
      "execution_count": 52,
      "metadata": {
        "id": "ZfxAvjCvBDJV"
      },
      "outputs": [],
      "source": [
        "import torch\n",
        "import torch.nn as nn\n",
        "import torch.nn.functional as F\n",
        "from torch.utils.data import Dataset, DataLoader\n",
        "import torchvision\n",
        "import torchvision.transforms as transforms\n",
        "import random\n",
        "import numpy as np\n",
        "from tqdm import tqdm\n",
        "import matplotlib.pyplot as plt"
      ]
    },
    {
      "cell_type": "code",
      "source": [
        "def set_seed(seed):\n",
        "    random.seed(seed)\n",
        "    torch.manual_seed(seed)\n",
        "    torch.cuda.manual_seed_all(seed)\n",
        "    np.random.seed(seed)\n",
        "\n",
        "set_seed(3407)"
      ],
      "metadata": {
        "id": "XUMAZr61BUfH"
      },
      "execution_count": 53,
      "outputs": []
    },
    {
      "cell_type": "code",
      "source": [
        "train_dataset = torchvision.datasets.MNIST(root='./data',\n",
        "                                           train=True,\n",
        "                                           transform=transforms.Compose([\n",
        "                                                  transforms.ToTensor(),\n",
        "                                                  transforms.Normalize(mean = (0.1307,), std = (0.3081,))]),\n",
        "                                           download=True)"
      ],
      "metadata": {
        "id": "ZgEpdvhejqqT"
      },
      "execution_count": 54,
      "outputs": []
    },
    {
      "cell_type": "code",
      "source": [
        "# custom dataset to load pairs of examples\n",
        "class MnistPairs(Dataset):\n",
        "    def __init__(self, train=True):\n",
        "        self.torch_dataset = torchvision.datasets.MNIST(root='./data',\n",
        "                                           train=train,\n",
        "                                           transform=transforms.Compose([\n",
        "                                                  transforms.ToTensor(),\n",
        "                                                  transforms.Normalize(mean = (0.1307,), std = (0.3081,))]),\n",
        "                                           download=True)\n",
        "        self.train_dataset, self.held_out = torch.utils.data.random_split(self.torch_dataset, [50000, 10000])\n",
        "    \n",
        "    def __len__(self):\n",
        "        return len(self.train_dataset)\n",
        "    \n",
        "    def __getitem__(self, idx):\n",
        "        x1, y1 = self.train_dataset[idx]\n",
        "        # method to give matching pairs about half the time\n",
        "        # potential TODO: speed this up with pre-processing\n",
        "        same_class = random.randint(0, 1)\n",
        "        if same_class:\n",
        "            while True:\n",
        "                x2, y2 = random.choice(self.train_dataset)\n",
        "                if y2 == y1:\n",
        "                    break\n",
        "        else:\n",
        "            while True:\n",
        "                x2, y2 = random.choice(self.train_dataset)\n",
        "                if y2 != y1:\n",
        "                    break\n",
        "        label = torch.tensor([y1 != y2], dtype=torch.float32)\n",
        "        return (x1, y1, x2, y2, label)"
      ],
      "metadata": {
        "id": "YQhGkGDQjVy0"
      },
      "execution_count": 55,
      "outputs": []
    },
    {
      "cell_type": "code",
      "source": [
        "# define CNN model\n",
        "class CNN(nn.Module):\n",
        "    def __init__(self):\n",
        "        super().__init__()\n",
        "        self.conv1 = nn.Conv2d(1, 32, 5)\n",
        "        self.conv2 = nn.Conv2d(32, 64, 5)\n",
        "        self.linear_layers = nn.Sequential(\n",
        "            nn.Linear(1024, 1024),\n",
        "            nn.ReLU(),\n",
        "            nn.Linear(1024, 2),\n",
        "        )\n",
        "    \n",
        "    def forward(self, x):\n",
        "        x = F.max_pool2d(self.conv1(x), kernel_size=2, stride=2)\n",
        "        x = F.max_pool2d(self.conv2(x), kernel_size=2, stride=2)\n",
        "        x = x.reshape(-1, 1024)\n",
        "        x = self.linear_layers(x)\n",
        "        return x"
      ],
      "metadata": {
        "id": "e3_IwDRc8VOi"
      },
      "execution_count": 56,
      "outputs": []
    },
    {
      "cell_type": "code",
      "source": [
        "class ContrastiveLoss(nn.Module):\n",
        "    \"\"\"\n",
        "    Contrastive loss function.\n",
        "    Based on: http://yann.lecun.com/exdb/publis/pdf/hadsell-chopra-lecun-06.pdf\n",
        "    \"\"\"\n",
        "\n",
        "    def __init__(self, margin=2.0):\n",
        "        super().__init__()\n",
        "        self.margin = margin\n",
        "\n",
        "    def forward(self, output1, output2, label):\n",
        "        euclidean_distance = F.pairwise_distance(output1, output2, keepdim=True)\n",
        "        loss_contrastive = torch.mean((1-label) * torch.pow(euclidean_distance, 2) +\n",
        "                                      (label) * torch.pow(torch.clamp(self.margin - euclidean_distance, min=0.0), 2))\n",
        "        return loss_contrastive"
      ],
      "metadata": {
        "id": "O6JJC3CyhvWn"
      },
      "execution_count": 57,
      "outputs": []
    },
    {
      "cell_type": "code",
      "source": [
        "device = torch.device('cuda' if torch.cuda.is_available() else 'cpu')\n",
        "device"
      ],
      "metadata": {
        "colab": {
          "base_uri": "https://localhost:8080/"
        },
        "id": "efeAby3wBXRg",
        "outputId": "1c656577-a35b-4d6a-8925-77951adb372b"
      },
      "execution_count": 58,
      "outputs": [
        {
          "output_type": "execute_result",
          "data": {
            "text/plain": [
              "device(type='cuda')"
            ]
          },
          "metadata": {},
          "execution_count": 58
        }
      ]
    },
    {
      "cell_type": "code",
      "source": [
        "pair_dataset = MnistPairs(train=True)\n",
        "pair_loader = DataLoader(pair_dataset, batch_size=128, shuffle=False)"
      ],
      "metadata": {
        "id": "m1ejzczokO38"
      },
      "execution_count": 59,
      "outputs": []
    },
    {
      "cell_type": "code",
      "source": [
        "model = CNN().to(device).train()\n",
        "criterion = ContrastiveLoss()\n",
        "optimizer = torch.optim.SGD(model.parameters(), lr=0.005)"
      ],
      "metadata": {
        "id": "17mIifHRBi2U"
      },
      "execution_count": 60,
      "outputs": []
    },
    {
      "cell_type": "code",
      "source": [
        "max_epochs = 10\n",
        "losses = []\n",
        "for epoch in range(max_epochs):\n",
        "    pbar = tqdm(enumerate(pair_loader), total=len(pair_loader))\n",
        "    for it, (x1, y1, x2, y2, label) in pbar:\n",
        "        x1 = x1.to(device)\n",
        "        out1 = model(x1)\n",
        "    \n",
        "        x2 = x2.to(device)\n",
        "        out2 = model(x2)\n",
        "    \n",
        "        optimizer.zero_grad()\n",
        "        label = label.to(device)\n",
        "        loss = criterion(out1, out2, label)\n",
        "    \n",
        "        loss.backward()\n",
        "        optimizer.step()\n",
        "    \n",
        "        losses.append(loss.item())\n",
        "        pbar.set_description(f\"epoch: {epoch}, loss: {loss.item():.5f}\")"
      ],
      "metadata": {
        "colab": {
          "base_uri": "https://localhost:8080/"
        },
        "id": "4Rp5bWxYobGN",
        "outputId": "1210f8fa-9aaa-4a6e-dd5f-b213d06dd5ca"
      },
      "execution_count": 61,
      "outputs": [
        {
          "output_type": "stream",
          "name": "stderr",
          "text": [
            "epoch: 0, loss: 0.47704: 100%|██████████| 391/391 [01:28<00:00,  4.40it/s]\n",
            "epoch: 1, loss: 0.49094: 100%|██████████| 391/391 [01:29<00:00,  4.35it/s]\n",
            "epoch: 2, loss: 0.32047: 100%|██████████| 391/391 [01:29<00:00,  4.35it/s]\n",
            "epoch: 3, loss: 0.29717: 100%|██████████| 391/391 [01:32<00:00,  4.25it/s]\n",
            "epoch: 4, loss: 0.28616: 100%|██████████| 391/391 [01:31<00:00,  4.26it/s]\n",
            "epoch: 5, loss: 0.23178: 100%|██████████| 391/391 [01:30<00:00,  4.33it/s]\n",
            "epoch: 6, loss: 0.24389: 100%|██████████| 391/391 [01:31<00:00,  4.25it/s]\n",
            "epoch: 7, loss: 0.19919: 100%|██████████| 391/391 [01:32<00:00,  4.24it/s]\n",
            "epoch: 8, loss: 0.17792: 100%|██████████| 391/391 [01:31<00:00,  4.30it/s]\n",
            "epoch: 9, loss: 0.27007: 100%|██████████| 391/391 [01:31<00:00,  4.27it/s]\n"
          ]
        }
      ]
    },
    {
      "cell_type": "code",
      "source": [
        "plt.plot(losses);\n",
        "plt.show()"
      ],
      "metadata": {
        "colab": {
          "base_uri": "https://localhost:8080/",
          "height": 265
        },
        "id": "E1wheZnjv7cf",
        "outputId": "0d9375a5-ab96-4953-c0ba-72a069851a8b"
      },
      "execution_count": 62,
      "outputs": [
        {
          "output_type": "display_data",
          "data": {
            "text/plain": [
              "<Figure size 432x288 with 1 Axes>"
            ],
            "image/png": "[encoded data removed]"
          },
          "metadata": {
            "needs_background": "light"
          }
        }
      ]
    },
    {
      "cell_type": "markdown",
      "source": [
        "# Once your model has finished training, use your held-out examples to measure the classification accuracy of your model: for each test example, measure the similarity of the test example to each held-out example, and choose the class with the highest average similarity."
      ],
      "metadata": {
        "id": "wWj6Emu7PG3I"
      }
    },
    {
      "cell_type": "code",
      "source": [
        "test_dataset = torchvision.datasets.MNIST(root='./data',\n",
        "                                           train=False,\n",
        "                                           transform=transforms.Compose([\n",
        "                                                  transforms.ToTensor(),\n",
        "                                                  transforms.Normalize(mean = (0.1307,), std = (0.3081,))]),\n",
        "                                           download=True)\n",
        "\n",
        "test_loader = DataLoader(test_dataset, batch_size=1, shuffle=False)"
      ],
      "metadata": {
        "id": "KmaNntctQr6b"
      },
      "execution_count": 63,
      "outputs": []
    },
    {
      "cell_type": "code",
      "source": [
        "held_out_imgs = []\n",
        "for i in range(10):\n",
        "    for img, label in pair_dataset.held_out:\n",
        "        if label == i:\n",
        "            held_out_imgs.append((img.unsqueeze(0).to(device), label))\n",
        "            break"
      ],
      "metadata": {
        "id": "hggBxtMGRY36"
      },
      "execution_count": 64,
      "outputs": []
    },
    {
      "cell_type": "code",
      "source": [
        "correct, total = 0, 0\n",
        "for it, (x, y) in enumerate(test_loader):\n",
        "    x = x.to(device)\n",
        "    min_dist = float('inf')\n",
        "    out1 = model(x)\n",
        "    output_label = None\n",
        "    for img, label in held_out_imgs:\n",
        "        out2 = model(img)\n",
        "        dist = torch.linalg.norm(out1 - out2, ord=2)\n",
        "        if dist < min_dist:\n",
        "            min_dist = dist\n",
        "            output_label = label\n",
        "    correct += (output_label == y).item()\n",
        "    total += 1\n",
        "\n",
        "print(f\"accuracy: {correct / total}\")"
      ],
      "metadata": {
        "colab": {
          "base_uri": "https://localhost:8080/"
        },
        "id": "Sv9rmkHxSyK3",
        "outputId": "3da53507-4620-4459-9ff4-f265d0eb3823"
      },
      "execution_count": 65,
      "outputs": [
        {
          "output_type": "stream",
          "name": "stdout",
          "text": [
            "accuracy: 0.8155\n"
          ]
        }
      ]
    }
  ]
}