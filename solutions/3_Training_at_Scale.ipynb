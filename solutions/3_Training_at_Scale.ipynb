{
  "nbformat": 4,
  "nbformat_minor": 0,
  "metadata": {
    "colab": {
      "name": "3_Training_at_Scale.ipynb",
      "provenance": [],
      "authorship_tag": "ABX9TyMr/Am5Oo5OkgZ1ZfKtwF54",
      "include_colab_link": true
    },
    "kernelspec": {
      "name": "python3",
      "display_name": "Python 3"
    },
    "language_info": {
      "name": "python"
    },
    "accelerator": "GPU",
    "gpuClass": "standard"
  },
  "cells": [
    {
      "cell_type": "markdown",
      "metadata": {
        "id": "view-in-github",
        "colab_type": "text"
      },
      "source": [
        "<a href=\"https://colab.research.google.com/github/ckkissane/deep_learning_curriculum/blob/triton-sol/solutions/3_Training_at_Scale.ipynb\" target=\"_parent\"><img src=\"https://colab.research.google.com/assets/colab-badge.svg\" alt=\"Open In Colab\"/></a>"
      ]
    },
    {
      "cell_type": "markdown",
      "source": [
        "Write an implementation of [Adam](https://arxiv.org/abs/1412.6980) using Triton, which is \"fused\" in the sense that the entire update is performed by a single call to low-level GPU code."
      ],
      "metadata": {
        "id": "JEplGw4PRbO-"
      }
    },
    {
      "cell_type": "markdown",
      "source": [
        "## First write the code for the update rule that can be compiled using `@triton.jit` decorator."
      ],
      "metadata": {
        "id": "4dGVQ7JWRjlI"
      }
    },
    {
      "cell_type": "code",
      "source": [
        "!pip install -U --pre triton"
      ],
      "metadata": {
        "id": "3xtz8dZPOpqg"
      },
      "execution_count": null,
      "outputs": []
    },
    {
      "cell_type": "code",
      "source": [
        "import torch\n",
        "from torch import nn\n",
        "\n",
        "import triton\n",
        "import triton.language as tl"
      ],
      "metadata": {
        "id": "5DbtzaPjOuey"
      },
      "execution_count": 2,
      "outputs": []
    },
    {
      "cell_type": "code",
      "source": [
        "@triton.jit\n",
        "def adam_update_kernel(\n",
        "    p_ptr, \n",
        "    g_ptr, \n",
        "    m_ptr, \n",
        "    v_ptr,\n",
        "    n_elements, \n",
        "    beta1,\n",
        "    beta2,\n",
        "    beta1_t,\n",
        "    beta2_t,\n",
        "    lr,\n",
        "    wd,\n",
        "    t,\n",
        "    eps, \n",
        "    BLOCK_SIZE: tl.constexpr\n",
        "):\n",
        "    pid = tl.program_id(0)\n",
        "\n",
        "    block_start = pid * BLOCK_SIZE\n",
        "    offsets = block_start + tl.arange(0, BLOCK_SIZE)\n",
        "\n",
        "    p_ptrs = p_ptr + offsets\n",
        "    g_ptrs = g_ptr + offsets\n",
        "    m_ptrs = m_ptr + offsets\n",
        "    v_ptrs = v_ptr + offsets\n",
        "\n",
        "    mask = offsets < n_elements\n",
        "\n",
        "    m = tl.load(m_ptrs, mask=mask)\n",
        "    g = tl.load(g_ptrs, mask=mask)\n",
        "    v = tl.load(v_ptrs, mask=mask)\n",
        "    p = tl.load(p_ptrs, mask=mask)\n",
        "\n",
        "    g_wd = g + wd * p\n",
        "\n",
        "    m_out = beta1 * m + (1.0 - beta1) * g_wd\n",
        "    tl.store(m_ptrs, m_out, mask=mask)\n",
        "\n",
        "    v_out = beta2 * v + (1.0 - beta2) * (g_wd * g_wd)\n",
        "    tl.store(v_ptrs, v_out, mask=mask)\n",
        "\n",
        "    m_hat = m_out / (1.0 - beta1_t)\n",
        "    v_hat = v_out / (1.0 - beta2_t)\n",
        "\n",
        "    p_out = p - lr * m_hat / (tl.sqrt(v_hat) + eps)\n",
        "    tl.store(p_ptrs, p_out, mask=mask)"
      ],
      "metadata": {
        "id": "AXZ8c7APU820"
      },
      "execution_count": 3,
      "outputs": []
    },
    {
      "cell_type": "markdown",
      "source": [
        "## Then write the PyTorch function that calls the compiled update rule."
      ],
      "metadata": {
        "id": "L0u_eTuESFzD"
      }
    },
    {
      "cell_type": "code",
      "source": [
        "class FusedAdam:\n",
        "    def __init__(\n",
        "        self,\n",
        "        params,\n",
        "        lr: float,\n",
        "        betas, # tuple[float, float]\n",
        "        eps: float,\n",
        "        weight_decay: float,\n",
        "    ):\n",
        "        self._parameters = list(params)\n",
        "        self.num_elements = sum(p.numel() for p in self._parameters)\n",
        "\n",
        "        self._param_buffer = None\n",
        "        self._grad_buffer = None\n",
        "        self._init_buffers()\n",
        "\n",
        "        self.make_params_contiguous()\n",
        "\n",
        "        self.lr = lr\n",
        "        self.beta1, self.beta2 = betas\n",
        "        self.eps = eps\n",
        "        self.wd = weight_decay\n",
        "\n",
        "        self.m = torch.zeros_like(self._param_buffer)\n",
        "        self.v = torch.zeros_like(self._param_buffer)\n",
        "        self.t = 0\n",
        "\n",
        "    def _init_buffers(self):\n",
        "        dtype = self._parameters[0].dtype\n",
        "        device = self._parameters[0].device\n",
        "        assert all(p.dtype == dtype for p in self._parameters)\n",
        "        assert all(p.device == device for p in self._parameters)\n",
        "        self._param_buffer = torch.zeros(self.num_elements, dtype=dtype, device=device)\n",
        "        self._grad_buffer =  torch.zeros(self.num_elements, dtype=dtype, device=device)\n",
        "\n",
        "    def make_params_contiguous(self):\n",
        "        index = 0\n",
        "        for p in self._parameters:\n",
        "            size = p.numel()\n",
        "            self._param_buffer[index:index + size] = p.data.view(-1)\n",
        "            p.data = self._param_buffer[index:index + size].view(p.data.shape)\n",
        "            p.grad = self._grad_buffer[index:index + size].view(p.data.shape)\n",
        "            index += size\n",
        "        self._param_buffer.grad = self._grad_buffer\n",
        "\n",
        "    def zero_grad(self):\n",
        "        if self._param_buffer.grad is not None:\n",
        "            if self._param_buffer.grad.grad_fn is not None:\n",
        "                self._param_buffer.grad.detach_()\n",
        "            else:\n",
        "                self._param_buffer.grad.requires_grad_(False)\n",
        "            self._param_buffer.grad.zero_()\n",
        "\n",
        "    def step(self):\n",
        "        self.t += 1\n",
        "        with torch.no_grad():\n",
        "            grid = lambda meta: (triton.cdiv(self.num_elements, meta['BLOCK_SIZE']),)\n",
        "\n",
        "            adam_update_kernel[grid](\n",
        "                self._param_buffer, \n",
        "                self._param_buffer.grad, \n",
        "                self.m, \n",
        "                self.v,\n",
        "                self.num_elements, \n",
        "                self.beta1,\n",
        "                self.beta2,\n",
        "                self.beta1**self.t,\n",
        "                self.beta2**self.t,\n",
        "                self.lr,\n",
        "                self.wd,\n",
        "                self.t,\n",
        "                self.eps, \n",
        "                BLOCK_SIZE=1024\n",
        "            )"
      ],
      "metadata": {
        "id": "LkeQKStBaRfn"
      },
      "execution_count": 10,
      "outputs": []
    },
    {
      "cell_type": "markdown",
      "source": [
        "## Benchmark your implementation and compare it to torch.optim.Adam."
      ],
      "metadata": {
        "id": "h34zvLNtSdRZ"
      }
    },
    {
      "cell_type": "markdown",
      "source": [
        "First let's test correctness"
      ],
      "metadata": {
        "id": "LG3JdvVaSwPq"
      }
    },
    {
      "cell_type": "code",
      "source": [
        "device = torch.device('cuda' if torch.cuda.is_available() else 'cpu')\n",
        "assert device == torch.device('cuda')"
      ],
      "metadata": {
        "id": "FKZIqv6riLal"
      },
      "execution_count": 11,
      "outputs": []
    },
    {
      "cell_type": "code",
      "execution_count": 12,
      "metadata": {
        "colab": {
          "base_uri": "https://localhost:8080/"
        },
        "id": "InuPCl6KOfDy",
        "outputId": "be3db10b-b08a-4f72-f841-d792e9d463b6"
      },
      "outputs": [
        {
          "output_type": "stream",
          "name": "stdout",
          "text": [
            "\n",
            "Testing configuration:  {'lr': 0.1, 'betas': (0.8, 0.95), 'eps': 0.001, 'weight_decay': 0.0}\n",
            "Congrats! You've passed the test.\n",
            "\n",
            "Testing configuration:  {'lr': 0.1, 'betas': (0.8, 0.9), 'eps': 0.001, 'weight_decay': 0.05}\n",
            "Congrats! You've passed the test.\n",
            "\n",
            "Testing configuration:  {'lr': 0.2, 'betas': (0.9, 0.95), 'eps': 0.01, 'weight_decay': 0.08}\n",
            "Congrats! You've passed the test.\n"
          ]
        }
      ],
      "source": [
        "def _check_equal(tensor1, tensor2):\n",
        "    if torch.allclose(tensor1, tensor2, rtol=1e-3, atol=1e-5):\n",
        "        print(\"Congrats! You've passed the test.\")\n",
        "    else:\n",
        "        print(\"Your optimizer returns different results from the pytorch solution.\")\n",
        "\n",
        "def _train_with_opt(data, model, optimizer):\n",
        "    for i, x in enumerate(data):\n",
        "        optimizer.zero_grad()\n",
        "        loss = model(x).sum()\n",
        "        loss.backward()\n",
        "        optimizer.step()\n",
        "\n",
        "def test_adam(_Adam):\n",
        "    test_cases = [\n",
        "        dict(lr=0.1, betas=(0.8, 0.95), eps=0.001, weight_decay=0.0),\n",
        "        dict(lr=0.1, betas=(0.8, 0.9), eps=0.001, weight_decay=0.05),\n",
        "        dict(lr=0.2, betas=(0.9, 0.95), eps=0.01, weight_decay=0.08),\n",
        "    ]\n",
        "    for opt_config in test_cases:\n",
        "        data = torch.randn(5, 1, 8).to(device)\n",
        "    \n",
        "        torch.manual_seed(42)\n",
        "        model = nn.Sequential(nn.Linear(8, 8), nn.Linear(8, 8)).to(device)\n",
        "        optimizer = torch.optim.Adam(model.parameters(), **opt_config)\n",
        "        _train_with_opt(data, model, optimizer)\n",
        "        w0_correct = model[0].weight\n",
        "    \n",
        "        torch.manual_seed(42)\n",
        "        model = nn.Sequential(nn.Linear(8, 8), nn.Linear(8, 8)).to(device)\n",
        "        optimizer = _Adam(model.parameters(), **opt_config)\n",
        "        _train_with_opt(data, model, optimizer)\n",
        "        w0_submitted = model[0].weight\n",
        "    \n",
        "        print(\"\\nTesting configuration: \", opt_config)\n",
        "        _check_equal(w0_correct, w0_submitted)\n",
        "    \n",
        "test_adam(FusedAdam)"
      ]
    },
    {
      "cell_type": "markdown",
      "source": [
        "Now benchmark"
      ],
      "metadata": {
        "id": "Qr-0MYiXStzc"
      }
    },
    {
      "cell_type": "code",
      "source": [
        "@triton.testing.perf_report(\n",
        "    triton.testing.Benchmark(\n",
        "        x_names=['num_examples'],  # argument names to use as an x-axis for the plot\n",
        "        x_vals=[\n",
        "            2**i for i in range(5)\n",
        "        ],  # different possible values for `x_name`\n",
        "        x_log=True,  # x axis is logarithmic\n",
        "        y_log=True,  # y axis is logarithmic\n",
        "        line_arg='provider',  # argument name whose value corresponds to a different line in the plot\n",
        "        line_vals=['torch', 'fused'],  # possible values for `line_arg`\n",
        "        line_names=['Torch', 'Fused'],  # label name for the lines\n",
        "        styles=[('blue', '-'), ('green', '-')],  # line styles\n",
        "        ylabel='time to train',  # label name for the y-axis\n",
        "        plot_name='adam-optim-performance',  # name for the plot. Used also as a file name for saving the plot.\n",
        "        args={},  # values for function arguments not in `x_names` and `y_name`\n",
        "    )\n",
        ")\n",
        "def benchmark(num_examples, provider):\n",
        "    opt_config = dict(lr=0.1, betas=(0.8, 0.95), eps=0.001, weight_decay=0.0)\n",
        "    data = torch.randn(num_examples, 1, 8).to(device)\n",
        "    model = nn.Sequential(nn.Linear(8, 8), nn.Linear(8, 8)).to(device)\n",
        "    if provider == 'torch':\n",
        "        opt = torch.optim.Adam(model.parameters(), **opt_config)\n",
        "    if provider == 'fused':\n",
        "        opt = FusedAdam(model.parameters(), **opt_config)\n",
        "    ms, min_ms, max_ms = triton.testing.do_bench(lambda: _train_with_opt(data, model, opt))\n",
        "    return ms, max_ms, min_ms\n",
        "\n",
        "benchmark.run(print_data=True, show_plots=True)"
      ],
      "metadata": {
        "id": "ajJbA78Cjzb4",
        "colab": {
          "base_uri": "https://localhost:8080/",
          "height": 409
        },
        "outputId": "0614e1ce-c390-4c91-8ab1-c4aa823ada83"
      },
      "execution_count": 13,
      "outputs": [
        {
          "output_type": "display_data",
          "data": {
            "text/plain": [
              "<Figure size 432x288 with 1 Axes>"
            ],
            "image/png": "[encoded data removed]"
          },
          "metadata": {
            "needs_background": "light"
          }
        },
        {
          "output_type": "stream",
          "name": "stdout",
          "text": [
            "adam-optim-performance:\n",
            "   num_examples      Torch     Fused\n",
            "0           1.0   0.127616  0.053280\n",
            "1           2.0   1.055168  0.351712\n",
            "2           4.0   2.826336  1.512736\n",
            "3           8.0   6.492608  3.919840\n",
            "4          16.0  14.099376  8.685904\n"
          ]
        }
      ]
    },
    {
      "cell_type": "markdown",
      "source": [
        "Note: I wrote a slightly more detailed post about the optimizations [here](https://ckkissane.github.io/fused_adam_post.html)"
      ],
      "metadata": {
        "id": "jGRm938IB6Tt"
      }
    }
  ]
}