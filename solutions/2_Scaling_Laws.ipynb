{
  "nbformat": 4,
  "nbformat_minor": 0,
  "metadata": {
    "colab": {
      "name": "2_Scaling_Laws.ipynb",
      "provenance": [],
      "authorship_tag": "ABX9TyMXvNwdzEzZBKDOFCiuoby4",
      "include_colab_link": true
    },
    "kernelspec": {
      "name": "python3",
      "display_name": "Python 3"
    },
    "language_info": {
      "name": "python"
    },
    "accelerator": "GPU",
    "gpuClass": "standard"
  },
  "cells": [
    {
      "cell_type": "markdown",
      "metadata": {
        "id": "view-in-github",
        "colab_type": "text"
      },
      "source": [
        "<a href=\"https://colab.research.google.com/github/ckkissane/deep_learning_curriculum/blob/scaling-laws/solutions/2_Scaling_Laws.ipynb\" target=\"_parent\"><img src=\"https://colab.research.google.com/assets/colab-badge.svg\" alt=\"Open In Colab\"/></a>"
      ]
    },
    {
      "cell_type": "markdown",
      "source": [
        "Perform your own study of scaling laws for MNIST."
      ],
      "metadata": {
        "id": "PZfXHT0cGeWs"
      }
    },
    {
      "cell_type": "markdown",
      "source": [
        "## Write a script to train a small CNN on MNIST, or find one you have written previously."
      ],
      "metadata": {
        "id": "tplV_S3eGlaa"
      }
    },
    {
      "cell_type": "code",
      "source": [
        "import torch\n",
        "import torch.nn as nn\n",
        "import torch.nn.functional as F\n",
        "from torch.optim import Adam\n",
        "from torch.utils.data import DataLoader, Subset\n",
        "import torchvision\n",
        "import torchvision.transforms as transforms\n",
        "import random\n",
        "import numpy as np\n",
        "from tqdm import tqdm\n",
        "import matplotlib.pyplot as plt\n",
        "import math\n",
        "import seaborn as sns\n",
        "import pandas as pd\n",
        "import scipy.stats as stats"
      ],
      "metadata": {
        "id": "VD2pHKmgpM7c"
      },
      "execution_count": 1,
      "outputs": []
    },
    {
      "cell_type": "code",
      "source": [
        "def set_seed(seed):\n",
        "    random.seed(seed)\n",
        "    torch.manual_seed(seed)\n",
        "    torch.cuda.manual_seed_all(seed)\n",
        "    np.random.seed(seed)\n",
        "\n",
        "set_seed(3407)"
      ],
      "metadata": {
        "id": "GX0iewtno42T"
      },
      "execution_count": 2,
      "outputs": []
    },
    {
      "cell_type": "code",
      "source": [
        "batch_size = 128\n",
        "\n",
        "device = torch.device('cuda' if torch.cuda.is_available() else 'cpu')\n",
        "device"
      ],
      "metadata": {
        "colab": {
          "base_uri": "https://localhost:8080/"
        },
        "id": "OxRJIMbSMY6L",
        "outputId": "8d01ac5e-df2f-48a3-92b4-1b864b3ee263"
      },
      "execution_count": 3,
      "outputs": [
        {
          "output_type": "execute_result",
          "data": {
            "text/plain": [
              "device(type='cuda')"
            ]
          },
          "metadata": {},
          "execution_count": 3
        }
      ]
    },
    {
      "cell_type": "code",
      "source": [
        "#Loading the dataset and preprocessing\n",
        "train_dataset = torchvision.datasets.MNIST(root='./data',\n",
        "                                           train=True,\n",
        "                                           transform=transforms.Compose([\n",
        "                                                  transforms.ToTensor(),\n",
        "                                                  transforms.Normalize(mean = (0.1307,), std = (0.3081,))]),\n",
        "                                           download=True)\n",
        "\n",
        "test_dataset = torchvision.datasets.MNIST(root='./data',\n",
        "                                          train=False,\n",
        "                                          transform=transforms.Compose([\n",
        "                                                  transforms.ToTensor(),\n",
        "                                                  transforms.Normalize(mean = (0.1307,), std = (0.3081,))]),\n",
        "                                          download=True)\n",
        "\n",
        "train_loader = DataLoader(dataset=train_dataset, batch_size=batch_size, shuffle=True)\n",
        "\n",
        "test_loader = DataLoader(dataset=test_dataset, batch_size=batch_size, shuffle=True)"
      ],
      "metadata": {
        "id": "hv2B-YbNpYkp"
      },
      "execution_count": 4,
      "outputs": []
    },
    {
      "cell_type": "code",
      "source": [
        "#Defining the small CNN\n",
        "class ConvNet(nn.Module):\n",
        "    def __init__(self, dropout=0.0):\n",
        "        super().__init__()\n",
        "        self.conv1 = nn.Conv2d(1, 3, kernel_size=3)\n",
        "        self.fc = nn.Linear(192, 10)\n",
        "        self.dropout = nn.Dropout(dropout)\n",
        "\n",
        "        self.num_params = sum(p.numel() for p in self.parameters())\n",
        "        print(f\"num params: {self.num_params}\")\n",
        "\n",
        "    def forward(self, x):\n",
        "        x = F.relu(F.max_pool2d(self.conv1(x), 3))\n",
        "        x = x.view(-1, 192)\n",
        "        x = self.dropout(x)\n",
        "        x = self.fc(x)\n",
        "        return x"
      ],
      "metadata": {
        "id": "kdI1ZJkYo0Ie"
      },
      "execution_count": 5,
      "outputs": []
    },
    {
      "cell_type": "code",
      "source": [
        "model = ConvNet().to(device)\n",
        "loss_fn = nn.CrossEntropyLoss()\n",
        "optimizer = Adam(model.parameters(), lr=0.01)"
      ],
      "metadata": {
        "colab": {
          "base_uri": "https://localhost:8080/"
        },
        "id": "-mz4YIawpnNe",
        "outputId": "a54b4f0b-9520-4ff5-95a1-bc1f454180ff"
      },
      "execution_count": 6,
      "outputs": [
        {
          "output_type": "stream",
          "name": "stdout",
          "text": [
            "num params: 1960\n"
          ]
        }
      ]
    },
    {
      "cell_type": "code",
      "source": [
        "def train(model, optimizer):\n",
        "    model.train()\n",
        "    print(f\"training model with {model.num_params} parameters\")\n",
        "    pbar = tqdm(enumerate(train_loader), total=len(train_loader))\n",
        "    for it, (images, labels) in pbar:  \n",
        "        images = images.to(device)\n",
        "        labels = labels.to(device)\n",
        "\n",
        "        optimizer.zero_grad()\n",
        "        \n",
        "        outputs = model(images)\n",
        "        loss = loss_fn(outputs, labels)\n",
        "            \n",
        "        loss.backward()\n",
        "        optimizer.step()\n",
        "\n",
        "        pbar.set_description(f\"iter {it}: train loss {loss.item():.5f}\")\n",
        "\n",
        "train(model, optimizer)"
      ],
      "metadata": {
        "id": "RQBMmtYkqHOJ",
        "colab": {
          "base_uri": "https://localhost:8080/"
        },
        "outputId": "6f0d90cb-28d4-457c-a0ba-d11e58252f6c"
      },
      "execution_count": 7,
      "outputs": [
        {
          "output_type": "stream",
          "name": "stdout",
          "text": [
            "training model with 1960 parameters\n"
          ]
        },
        {
          "output_type": "stream",
          "name": "stderr",
          "text": [
            "iter 468: train loss 0.18149: 100%|██████████| 469/469 [00:21<00:00, 21.91it/s]\n"
          ]
        }
      ]
    },
    {
      "cell_type": "code",
      "source": [
        "def test(model):\n",
        "    model.eval()\n",
        "    print(f\"testing model with {model.num_params} parameters\")\n",
        "    with torch.no_grad():\n",
        "        correct = 0\n",
        "        total = 0\n",
        "        test_loss = 0\n",
        "        for images, labels in test_loader:\n",
        "            images = images.to(device)\n",
        "            labels = labels.to(device)\n",
        "            outputs = model(images)\n",
        "            test_loss += loss_fn(outputs, labels).item()\n",
        "            _, predicted = torch.max(outputs.data, 1)\n",
        "            total += labels.size(0)\n",
        "            correct += (predicted == labels).sum().item()\n",
        "        \n",
        "        test_loss /= len(test_loader)\n",
        "        print(f\"test loss: {test_loss}\")\n",
        "        print(f\"Accuracy of the network on the 10000 test images: {correct / total}\")\n",
        "        return test_loss, correct / total\n",
        "\n",
        "test(model)"
      ],
      "metadata": {
        "id": "hN06-JoJqWf_",
        "colab": {
          "base_uri": "https://localhost:8080/"
        },
        "outputId": "b04759be-0566-46db-c5bd-4d563dfc15d0"
      },
      "execution_count": 8,
      "outputs": [
        {
          "output_type": "stream",
          "name": "stdout",
          "text": [
            "testing model with 1960 parameters\n",
            "test loss: 0.13905101698599284\n",
            "Accuracy of the network on the 10000 test images: 0.9577\n"
          ]
        },
        {
          "output_type": "execute_result",
          "data": {
            "text/plain": [
              "(0.13905101698599284, 0.9577)"
            ]
          },
          "metadata": {},
          "execution_count": 8
        }
      ]
    },
    {
      "cell_type": "markdown",
      "source": [
        "## Training for a single epoch only, vary the model size and dataset size. For the model size, multiply the width by powers of sqrt(2) (rounding if necessary - the idea is to vary the amount of compute used per forward pass by powers of 2). To reduce noise, use a few random seeds and always use the full validation set."
      ],
      "metadata": {
        "id": "b4GIOQ26HKHT"
      }
    },
    {
      "cell_type": "code",
      "source": [
        "# modify CNN model to scale width by scaling_factor\n",
        "class WideConvNet(nn.Module):\n",
        "    def __init__(self, scaling_factor, dropout=0.0):\n",
        "        super().__init__()\n",
        "        self.scaling_factor = scaling_factor\n",
        "        self.conv1 = nn.Conv2d(1, int(3 * scaling_factor), kernel_size=3)\n",
        "        self.fc = nn.Linear(int(3 * scaling_factor) * 64, 10)\n",
        "        self.dropout = nn.Dropout(dropout)\n",
        "\n",
        "        self.num_params = sum(p.numel() for p in self.parameters())\n",
        "        print(f\"num params: {self.num_params}\")\n",
        "\n",
        "    def forward(self, x):\n",
        "        x = F.relu(F.max_pool2d(self.conv1(x), 3))\n",
        "        x = x.view(-1, int(3 * self.scaling_factor) * 64)\n",
        "        x = self.dropout(x)\n",
        "        x = self.fc(x)\n",
        "        return x"
      ],
      "metadata": {
        "id": "EOkoDKLwJUe4"
      },
      "execution_count": 9,
      "outputs": []
    },
    {
      "cell_type": "markdown",
      "source": [
        "Note: for learning rates, I'll use the rule of thumb from [Scaling Laws for Neural Language Models](https://arxiv.org/abs/2001.08361)"
      ],
      "metadata": {
        "id": "y2dZSJ9V6CLa"
      }
    },
    {
      "cell_type": "code",
      "source": [
        "def LR(N):\n",
        "    return 0.003239  + ((-0.0001395) * math.log(N))"
      ],
      "metadata": {
        "id": "R84bnXyPw0qt"
      },
      "execution_count": 10,
      "outputs": []
    },
    {
      "cell_type": "code",
      "source": [
        "# now train / test different sized models to observe scaling laws\n",
        "# scaling factors: 2^0, 2^1, 2^2, ... \n",
        "num_models = 5\n",
        "num_trials = 5\n",
        "params = [0] * num_models\n",
        "test_loss = [0] * num_models\n",
        "accuracy = [0] * num_models\n",
        "for power in range(num_models):\n",
        "    for _ in range(num_trials):\n",
        "        model = WideConvNet(scaling_factor=2**power).to(device)\n",
        "        loss_fn = nn.CrossEntropyLoss()\n",
        "        learning_rate = LR(model.num_params)\n",
        "        optimizer = Adam(model.parameters(), lr=learning_rate)\n",
        "        train(model, optimizer)\n",
        "        tloss, acc = test(model)\n",
        "        test_loss[power] += tloss\n",
        "        accuracy[power] += acc\n",
        "        print(\"\\n\")\n",
        "    test_loss[power] /= num_trials\n",
        "    accuracy[power] /= num_trials\n",
        "    params[power] = model.num_params"
      ],
      "metadata": {
        "id": "oXJh8PxWqx7F"
      },
      "execution_count": null,
      "outputs": []
    },
    {
      "cell_type": "markdown",
      "source": [
        "### Plot the amount of compute used (on a log scale) against validation loss. The compute-efficient frontier should follow an approximate power law (straight line on a log scale)."
      ],
      "metadata": {
        "id": "bIkM57AP6MS2"
      }
    },
    {
      "cell_type": "markdown",
      "source": [
        "Note: I'll start with the number of parameters instead of compute used. I will study the compute-efficient frontier later in this notebook. "
      ],
      "metadata": {
        "id": "SjWt2UM-gH88"
      }
    },
    {
      "cell_type": "code",
      "source": [
        "data = {'params' : params, 'loss': test_loss, 'accuracy': accuracy} \n",
        "df = pd.DataFrame(data)\n",
        "df['log params'] = np.log10(df['params'])\n",
        "df['log loss'] = np.log10(df['loss'])\n",
        "df"
      ],
      "metadata": {
        "colab": {
          "base_uri": "https://localhost:8080/",
          "height": 206
        },
        "id": "pyHjar7VsUTI",
        "outputId": "111b1aa2-e30a-412c-9521-0af9d025d52d"
      },
      "execution_count": 12,
      "outputs": [
        {
          "output_type": "execute_result",
          "data": {
            "text/plain": [
              "   params      loss  accuracy  log params  log loss\n",
              "0    1960  0.243126   0.92808    3.292256 -0.614168\n",
              "1    3910  0.168984   0.95040    3.592177 -0.772154\n",
              "2    7810  0.109691   0.96670    3.892651 -0.959828\n",
              "3   15610  0.084731   0.97374    4.193403 -1.071960\n",
              "4   31210  0.078072   0.97598    4.494294 -1.107507"
            ],
            "text/html": [
              "\n",
              "  <div id=\"df-d2a6d909-346e-4486-af69-0d4bfe53dfff\">\n",
              "    <div class=\"colab-df-container\">\n",
              "      <div>\n",
              "<style scoped>\n",
              "    .dataframe tbody tr th:only-of-type {\n",
              "        vertical-align: middle;\n",
              "    }\n",
              "\n",
              "    .dataframe tbody tr th {\n",
              "        vertical-align: top;\n",
              "    }\n",
              "\n",
              "    .dataframe thead th {\n",
              "        text-align: right;\n",
              "    }\n",
              "</style>\n",
              "<table border=\"1\" class=\"dataframe\">\n",
              "  <thead>\n",
              "    <tr style=\"text-align: right;\">\n",
              "      <th></th>\n",
              "      <th>params</th>\n",
              "      <th>loss</th>\n",
              "      <th>accuracy</th>\n",
              "      <th>log params</th>\n",
              "      <th>log loss</th>\n",
              "    </tr>\n",
              "  </thead>\n",
              "  <tbody>\n",
              "    <tr>\n",
              "      <th>0</th>\n",
              "      <td>1960</td>\n",
              "      <td>0.243126</td>\n",
              "      <td>0.92808</td>\n",
              "      <td>3.292256</td>\n",
              "      <td>-0.614168</td>\n",
              "    </tr>\n",
              "    <tr>\n",
              "      <th>1</th>\n",
              "      <td>3910</td>\n",
              "      <td>0.168984</td>\n",
              "      <td>0.95040</td>\n",
              "      <td>3.592177</td>\n",
              "      <td>-0.772154</td>\n",
              "    </tr>\n",
              "    <tr>\n",
              "      <th>2</th>\n",
              "      <td>7810</td>\n",
              "      <td>0.109691</td>\n",
              "      <td>0.96670</td>\n",
              "      <td>3.892651</td>\n",
              "      <td>-0.959828</td>\n",
              "    </tr>\n",
              "    <tr>\n",
              "      <th>3</th>\n",
              "      <td>15610</td>\n",
              "      <td>0.084731</td>\n",
              "      <td>0.97374</td>\n",
              "      <td>4.193403</td>\n",
              "      <td>-1.071960</td>\n",
              "    </tr>\n",
              "    <tr>\n",
              "      <th>4</th>\n",
              "      <td>31210</td>\n",
              "      <td>0.078072</td>\n",
              "      <td>0.97598</td>\n",
              "      <td>4.494294</td>\n",
              "      <td>-1.107507</td>\n",
              "    </tr>\n",
              "  </tbody>\n",
              "</table>\n",
              "</div>\n",
              "      <button class=\"colab-df-convert\" onclick=\"convertToInteractive('df-d2a6d909-346e-4486-af69-0d4bfe53dfff')\"\n",
              "              title=\"Convert this dataframe to an interactive table.\"\n",
              "              style=\"display:none;\">\n",
              "        \n",
              "  <svg xmlns=\"http://www.w3.org/2000/svg\" height=\"24px\"viewBox=\"0 0 24 24\"\n",
              "       width=\"24px\">\n",
              "    <path d=\"M0 0h24v24H0V0z\" fill=\"none\"/>\n",
              "    <path d=\"M18.56 5.44l.94 2.06.94-2.06 2.06-.94-2.06-.94-.94-2.06-.94 2.06-2.06.94zm-11 1L8.5 8.5l.94-2.06 2.06-.94-2.06-.94L8.5 2.5l-.94 2.06-2.06.94zm10 10l.94 2.06.94-2.06 2.06-.94-2.06-.94-.94-2.06-.94 2.06-2.06.94z\"/><path d=\"M17.41 7.96l-1.37-1.37c-.4-.4-.92-.59-1.43-.59-.52 0-1.04.2-1.43.59L10.3 9.45l-7.72 7.72c-.78.78-.78 2.05 0 2.83L4 21.41c.39.39.9.59 1.41.59.51 0 1.02-.2 1.41-.59l7.78-7.78 2.81-2.81c.8-.78.8-2.07 0-2.86zM5.41 20L4 18.59l7.72-7.72 1.47 1.35L5.41 20z\"/>\n",
              "  </svg>\n",
              "      </button>\n",
              "      \n",
              "  <style>\n",
              "    .colab-df-container {\n",
              "      display:flex;\n",
              "      flex-wrap:wrap;\n",
              "      gap: 12px;\n",
              "    }\n",
              "\n",
              "    .colab-df-convert {\n",
              "      background-color: #E8F0FE;\n",
              "      border: none;\n",
              "      border-radius: 50%;\n",
              "      cursor: pointer;\n",
              "      display: none;\n",
              "      fill: #1967D2;\n",
              "      height: 32px;\n",
              "      padding: 0 0 0 0;\n",
              "      width: 32px;\n",
              "    }\n",
              "\n",
              "    .colab-df-convert:hover {\n",
              "      background-color: #E2EBFA;\n",
              "      box-shadow: 0px 1px 2px rgba(60, 64, 67, 0.3), 0px 1px 3px 1px rgba(60, 64, 67, 0.15);\n",
              "      fill: #174EA6;\n",
              "    }\n",
              "\n",
              "    [theme=dark] .colab-df-convert {\n",
              "      background-color: #3B4455;\n",
              "      fill: #D2E3FC;\n",
              "    }\n",
              "\n",
              "    [theme=dark] .colab-df-convert:hover {\n",
              "      background-color: #434B5C;\n",
              "      box-shadow: 0px 1px 3px 1px rgba(0, 0, 0, 0.15);\n",
              "      filter: drop-shadow(0px 1px 2px rgba(0, 0, 0, 0.3));\n",
              "      fill: #FFFFFF;\n",
              "    }\n",
              "  </style>\n",
              "\n",
              "      <script>\n",
              "        const buttonEl =\n",
              "          document.querySelector('#df-d2a6d909-346e-4486-af69-0d4bfe53dfff button.colab-df-convert');\n",
              "        buttonEl.style.display =\n",
              "          google.colab.kernel.accessAllowed ? 'block' : 'none';\n",
              "\n",
              "        async function convertToInteractive(key) {\n",
              "          const element = document.querySelector('#df-d2a6d909-346e-4486-af69-0d4bfe53dfff');\n",
              "          const dataTable =\n",
              "            await google.colab.kernel.invokeFunction('convertToInteractive',\n",
              "                                                     [key], {});\n",
              "          if (!dataTable) return;\n",
              "\n",
              "          const docLinkHtml = 'Like what you see? Visit the ' +\n",
              "            '<a target=\"_blank\" href=https://colab.research.google.com/notebooks/data_table.ipynb>data table notebook</a>'\n",
              "            + ' to learn more about interactive tables.';\n",
              "          element.innerHTML = '';\n",
              "          dataTable['output_type'] = 'display_data';\n",
              "          await google.colab.output.renderOutput(dataTable, element);\n",
              "          const docLink = document.createElement('div');\n",
              "          docLink.innerHTML = docLinkHtml;\n",
              "          element.appendChild(docLink);\n",
              "        }\n",
              "      </script>\n",
              "    </div>\n",
              "  </div>\n",
              "  "
            ]
          },
          "metadata": {},
          "execution_count": 12
        }
      ]
    },
    {
      "cell_type": "code",
      "source": [
        "sns.scatterplot(data=df, x=\"params\", y=\"loss\");"
      ],
      "metadata": {
        "colab": {
          "base_uri": "https://localhost:8080/",
          "height": 282
        },
        "id": "rDO_c-ZivXti",
        "outputId": "a43c4fd5-ec16-4811-e5b5-fe289aa45dd8"
      },
      "execution_count": 13,
      "outputs": [
        {
          "output_type": "display_data",
          "data": {
            "text/plain": [
              "<Figure size 432x288 with 1 Axes>"
            ],
            "image/png": "[encoded data removed]"
          },
          "metadata": {
            "needs_background": "light"
          }
        }
      ]
    },
    {
      "cell_type": "code",
      "source": [
        "sns.lmplot(data=df, x=\"log params\", y=\"log loss\");"
      ],
      "metadata": {
        "colab": {
          "base_uri": "https://localhost:8080/",
          "height": 369
        },
        "id": "LkcSSxgsaxwJ",
        "outputId": "dbe1716a-1a1f-4247-f38c-280c6c32b0f9"
      },
      "execution_count": 14,
      "outputs": [
        {
          "output_type": "display_data",
          "data": {
            "text/plain": [
              "<Figure size 360x360 with 1 Axes>"
            ],
            "image/png": "[encoded data removed]"
          },
          "metadata": {
            "needs_background": "light"
          }
        }
      ]
    },
    {
      "cell_type": "code",
      "source": [
        "# analyze power law\n",
        "slope, intercept, r_value, p_value, std_err = stats.linregress(df['log params'],df['log loss'])\n",
        "print(f\"slope: {slope}, intercept: {intercept}\")"
      ],
      "metadata": {
        "colab": {
          "base_uri": "https://localhost:8080/"
        },
        "id": "TBGu0qryLncl",
        "outputId": "3111f444-c01a-496a-a1b0-bfceedeee6e8"
      },
      "execution_count": 15,
      "outputs": [
        {
          "output_type": "stream",
          "name": "stdout",
          "text": [
            "slope: -0.4280199475069962, intercept: 0.7611391884722077\n"
          ]
        }
      ]
    },
    {
      "cell_type": "code",
      "source": [
        "# Add power law to the dataset\n",
        "df['power law'] = 10**intercept * df['params']**slope\n",
        "df"
      ],
      "metadata": {
        "colab": {
          "base_uri": "https://localhost:8080/",
          "height": 206
        },
        "id": "-NUEP9wnL-dv",
        "outputId": "c68ddbe5-afb0-495f-b48b-b57f077bd251"
      },
      "execution_count": 16,
      "outputs": [
        {
          "output_type": "execute_result",
          "data": {
            "text/plain": [
              "   params      loss  accuracy  log params  log loss  power law\n",
              "0    1960  0.243126   0.92808    3.292256 -0.614168   0.224899\n",
              "1    3910  0.168984   0.95040    3.592177 -0.772154   0.167346\n",
              "2    7810  0.109691   0.96670    3.892651 -0.959828   0.124453\n",
              "3   15610  0.084731   0.97374    4.193403 -1.071960   0.092529\n",
              "4   31210  0.078072   0.97598    4.494294 -1.107507   0.068785"
            ],
            "text/html": [
              "\n",
              "  <div id=\"df-336ed451-5b0d-4eda-b157-6128c8999df5\">\n",
              "    <div class=\"colab-df-container\">\n",
              "      <div>\n",
              "<style scoped>\n",
              "    .dataframe tbody tr th:only-of-type {\n",
              "        vertical-align: middle;\n",
              "    }\n",
              "\n",
              "    .dataframe tbody tr th {\n",
              "        vertical-align: top;\n",
              "    }\n",
              "\n",
              "    .dataframe thead th {\n",
              "        text-align: right;\n",
              "    }\n",
              "</style>\n",
              "<table border=\"1\" class=\"dataframe\">\n",
              "  <thead>\n",
              "    <tr style=\"text-align: right;\">\n",
              "      <th></th>\n",
              "      <th>params</th>\n",
              "      <th>loss</th>\n",
              "      <th>accuracy</th>\n",
              "      <th>log params</th>\n",
              "      <th>log loss</th>\n",
              "      <th>power law</th>\n",
              "    </tr>\n",
              "  </thead>\n",
              "  <tbody>\n",
              "    <tr>\n",
              "      <th>0</th>\n",
              "      <td>1960</td>\n",
              "      <td>0.243126</td>\n",
              "      <td>0.92808</td>\n",
              "      <td>3.292256</td>\n",
              "      <td>-0.614168</td>\n",
              "      <td>0.224899</td>\n",
              "    </tr>\n",
              "    <tr>\n",
              "      <th>1</th>\n",
              "      <td>3910</td>\n",
              "      <td>0.168984</td>\n",
              "      <td>0.95040</td>\n",
              "      <td>3.592177</td>\n",
              "      <td>-0.772154</td>\n",
              "      <td>0.167346</td>\n",
              "    </tr>\n",
              "    <tr>\n",
              "      <th>2</th>\n",
              "      <td>7810</td>\n",
              "      <td>0.109691</td>\n",
              "      <td>0.96670</td>\n",
              "      <td>3.892651</td>\n",
              "      <td>-0.959828</td>\n",
              "      <td>0.124453</td>\n",
              "    </tr>\n",
              "    <tr>\n",
              "      <th>3</th>\n",
              "      <td>15610</td>\n",
              "      <td>0.084731</td>\n",
              "      <td>0.97374</td>\n",
              "      <td>4.193403</td>\n",
              "      <td>-1.071960</td>\n",
              "      <td>0.092529</td>\n",
              "    </tr>\n",
              "    <tr>\n",
              "      <th>4</th>\n",
              "      <td>31210</td>\n",
              "      <td>0.078072</td>\n",
              "      <td>0.97598</td>\n",
              "      <td>4.494294</td>\n",
              "      <td>-1.107507</td>\n",
              "      <td>0.068785</td>\n",
              "    </tr>\n",
              "  </tbody>\n",
              "</table>\n",
              "</div>\n",
              "      <button class=\"colab-df-convert\" onclick=\"convertToInteractive('df-336ed451-5b0d-4eda-b157-6128c8999df5')\"\n",
              "              title=\"Convert this dataframe to an interactive table.\"\n",
              "              style=\"display:none;\">\n",
              "        \n",
              "  <svg xmlns=\"http://www.w3.org/2000/svg\" height=\"24px\"viewBox=\"0 0 24 24\"\n",
              "       width=\"24px\">\n",
              "    <path d=\"M0 0h24v24H0V0z\" fill=\"none\"/>\n",
              "    <path d=\"M18.56 5.44l.94 2.06.94-2.06 2.06-.94-2.06-.94-.94-2.06-.94 2.06-2.06.94zm-11 1L8.5 8.5l.94-2.06 2.06-.94-2.06-.94L8.5 2.5l-.94 2.06-2.06.94zm10 10l.94 2.06.94-2.06 2.06-.94-2.06-.94-.94-2.06-.94 2.06-2.06.94z\"/><path d=\"M17.41 7.96l-1.37-1.37c-.4-.4-.92-.59-1.43-.59-.52 0-1.04.2-1.43.59L10.3 9.45l-7.72 7.72c-.78.78-.78 2.05 0 2.83L4 21.41c.39.39.9.59 1.41.59.51 0 1.02-.2 1.41-.59l7.78-7.78 2.81-2.81c.8-.78.8-2.07 0-2.86zM5.41 20L4 18.59l7.72-7.72 1.47 1.35L5.41 20z\"/>\n",
              "  </svg>\n",
              "      </button>\n",
              "      \n",
              "  <style>\n",
              "    .colab-df-container {\n",
              "      display:flex;\n",
              "      flex-wrap:wrap;\n",
              "      gap: 12px;\n",
              "    }\n",
              "\n",
              "    .colab-df-convert {\n",
              "      background-color: #E8F0FE;\n",
              "      border: none;\n",
              "      border-radius: 50%;\n",
              "      cursor: pointer;\n",
              "      display: none;\n",
              "      fill: #1967D2;\n",
              "      height: 32px;\n",
              "      padding: 0 0 0 0;\n",
              "      width: 32px;\n",
              "    }\n",
              "\n",
              "    .colab-df-convert:hover {\n",
              "      background-color: #E2EBFA;\n",
              "      box-shadow: 0px 1px 2px rgba(60, 64, 67, 0.3), 0px 1px 3px 1px rgba(60, 64, 67, 0.15);\n",
              "      fill: #174EA6;\n",
              "    }\n",
              "\n",
              "    [theme=dark] .colab-df-convert {\n",
              "      background-color: #3B4455;\n",
              "      fill: #D2E3FC;\n",
              "    }\n",
              "\n",
              "    [theme=dark] .colab-df-convert:hover {\n",
              "      background-color: #434B5C;\n",
              "      box-shadow: 0px 1px 3px 1px rgba(0, 0, 0, 0.15);\n",
              "      filter: drop-shadow(0px 1px 2px rgba(0, 0, 0, 0.3));\n",
              "      fill: #FFFFFF;\n",
              "    }\n",
              "  </style>\n",
              "\n",
              "      <script>\n",
              "        const buttonEl =\n",
              "          document.querySelector('#df-336ed451-5b0d-4eda-b157-6128c8999df5 button.colab-df-convert');\n",
              "        buttonEl.style.display =\n",
              "          google.colab.kernel.accessAllowed ? 'block' : 'none';\n",
              "\n",
              "        async function convertToInteractive(key) {\n",
              "          const element = document.querySelector('#df-336ed451-5b0d-4eda-b157-6128c8999df5');\n",
              "          const dataTable =\n",
              "            await google.colab.kernel.invokeFunction('convertToInteractive',\n",
              "                                                     [key], {});\n",
              "          if (!dataTable) return;\n",
              "\n",
              "          const docLinkHtml = 'Like what you see? Visit the ' +\n",
              "            '<a target=\"_blank\" href=https://colab.research.google.com/notebooks/data_table.ipynb>data table notebook</a>'\n",
              "            + ' to learn more about interactive tables.';\n",
              "          element.innerHTML = '';\n",
              "          dataTable['output_type'] = 'display_data';\n",
              "          await google.colab.output.renderOutput(dataTable, element);\n",
              "          const docLink = document.createElement('div');\n",
              "          docLink.innerHTML = docLinkHtml;\n",
              "          element.appendChild(docLink);\n",
              "        }\n",
              "      </script>\n",
              "    </div>\n",
              "  </div>\n",
              "  "
            ]
          },
          "metadata": {},
          "execution_count": 16
        }
      ]
    },
    {
      "cell_type": "code",
      "source": [
        "# fit loss curve with power law\n",
        "sns.scatterplot(data=df, x=\"params\", y=\"loss\")\n",
        "sns.lineplot(data=df, x=\"params\", y='power law');"
      ],
      "metadata": {
        "colab": {
          "base_uri": "https://localhost:8080/",
          "height": 281
        },
        "id": "ibp3cE5IMDAp",
        "outputId": "2c66b971-b9bf-4356-9d04-16d4db56946f"
      },
      "execution_count": 17,
      "outputs": [
        {
          "output_type": "display_data",
          "data": {
            "text/plain": [
              "<Figure size 432x288 with 1 Axes>"
            ],
            "image/png": "[encoded data removed]"
          },
          "metadata": {
            "needs_background": "light"
          }
        }
      ]
    },
    {
      "cell_type": "markdown",
      "source": [
        "### How does validation accuracy behave?"
      ],
      "metadata": {
        "id": "V8hGxMsE4pir"
      }
    },
    {
      "cell_type": "code",
      "source": [
        "sns.scatterplot(data=df, x=\"params\", y=\"accuracy\");"
      ],
      "metadata": {
        "colab": {
          "base_uri": "https://localhost:8080/",
          "height": 279
        },
        "id": "3RWuY6mT37bC",
        "outputId": "8e1ecd90-de68-4e26-8a1d-af03ca00a95a"
      },
      "execution_count": 18,
      "outputs": [
        {
          "output_type": "display_data",
          "data": {
            "text/plain": [
              "<Figure size 432x288 with 1 Axes>"
            ],
            "image/png": "[encoded data removed]"
          },
          "metadata": {
            "needs_background": "light"
          }
        }
      ]
    },
    {
      "cell_type": "markdown",
      "source": [
        "## Study how the compute-efficient model size varies with compute. This should also follow an approximate power law. Try to estimate its exponent."
      ],
      "metadata": {
        "id": "PvnjwS2z6ZRo"
      }
    },
    {
      "cell_type": "code",
      "source": [
        "# train function that records train_loss and compute used every step\n",
        "def get_compute_train_loss_data(model, max_epochs=1):\n",
        "    loss_fn = nn.CrossEntropyLoss()\n",
        "    learning_rate = LR(model.num_params)\n",
        "    optimizer = torch.optim.Adam(model.parameters(), lr=learning_rate)\n",
        "    \n",
        "    compute_used = []\n",
        "    train_loss = []\n",
        "    \n",
        "    iters_per_epoch = len(train_loader)\n",
        "    for epoch in range(max_epochs):\n",
        "        pbar = tqdm(enumerate(train_loader), total=len(train_loader))\n",
        "        for it, (images, labels) in pbar:  \n",
        "            model.train()\n",
        "            images = images.to(device)\n",
        "            labels = labels.to(device)\n",
        "            \n",
        "            outputs = model(images)\n",
        "            loss = loss_fn(outputs, labels)\n",
        "                \n",
        "            optimizer.zero_grad()\n",
        "            loss.backward()\n",
        "            optimizer.step()\n",
        "        \n",
        "            pbar.set_description(f\"iter {it}: train loss {loss.item():.5f}\")\n",
        "            \n",
        "            past_iters = epoch * iters_per_epoch\n",
        "            # this uses C = 6NBS from the neural scaling laws paper\n",
        "            compute_used.append(6 * model.num_params * batch_size * (it + 1 + past_iters))\n",
        "            train_loss.append(loss.item())\n",
        "    return compute_used, train_loss"
      ],
      "metadata": {
        "id": "j5rVvsx_Ryfg"
      },
      "execution_count": 19,
      "outputs": []
    },
    {
      "cell_type": "code",
      "source": [
        "# function to train multiple models and record the data we care about\n",
        "# also fits the loss curves and keeps track of the polynomials, so that we\n",
        "# can use them to infer optimal model size later\n",
        "def fit_loss_vs_compute(num_models, max_epochs=1):\n",
        "    polys = []\n",
        "    params = []\n",
        "    fig, (ax1, ax2) = plt.subplots(1, 2)\n",
        "    for power in range(num_models):\n",
        "        model = WideConvNet(scaling_factor=2 ** power).to(device)\n",
        "        compute, train_loss = get_compute_train_loss_data(model, max_epochs)\n",
        "        # fit curve\n",
        "        x = np.log10(compute)\n",
        "        y = np.log10(train_loss)\n",
        "        z = np.polyfit(x, y, 3)\n",
        "        f = np.poly1d(z)\n",
        "\n",
        "        polys.append(f) \n",
        "        params.append(model.num_params)\n",
        "\n",
        "        # plot log train_loss vs log compute\n",
        "        x_new = np.linspace(x[0], x[-1], 50)\n",
        "        y_new = f(x_new)\n",
        "    \n",
        "        ax1.scatter(x, y)\n",
        "        ax2.plot(x_new, y_new)\n",
        "    plt.show()\n",
        "    return polys, params\n",
        "\n",
        "polys, params = fit_loss_vs_compute(num_models=5, max_epochs=1)"
      ],
      "metadata": {
        "colab": {
          "base_uri": "https://localhost:8080/",
          "height": 444
        },
        "id": "5BwPGJ1wTBCD",
        "outputId": "62bdcde0-25b3-447d-ae09-0f9964fb6039"
      },
      "execution_count": 21,
      "outputs": [
        {
          "output_type": "stream",
          "name": "stdout",
          "text": [
            "num params: 1960\n"
          ]
        },
        {
          "output_type": "stream",
          "name": "stderr",
          "text": [
            "iter 468: train loss 0.19594: 100%|██████████| 469/469 [00:15<00:00, 29.73it/s]\n"
          ]
        },
        {
          "output_type": "stream",
          "name": "stdout",
          "text": [
            "num params: 3910\n"
          ]
        },
        {
          "output_type": "stream",
          "name": "stderr",
          "text": [
            "iter 468: train loss 0.17774: 100%|██████████| 469/469 [00:14<00:00, 32.08it/s]\n"
          ]
        },
        {
          "output_type": "stream",
          "name": "stdout",
          "text": [
            "num params: 7810\n"
          ]
        },
        {
          "output_type": "stream",
          "name": "stderr",
          "text": [
            "iter 468: train loss 0.16085: 100%|██████████| 469/469 [00:15<00:00, 30.81it/s]\n"
          ]
        },
        {
          "output_type": "stream",
          "name": "stdout",
          "text": [
            "num params: 15610\n"
          ]
        },
        {
          "output_type": "stream",
          "name": "stderr",
          "text": [
            "iter 468: train loss 0.18333: 100%|██████████| 469/469 [00:14<00:00, 31.40it/s]\n"
          ]
        },
        {
          "output_type": "stream",
          "name": "stdout",
          "text": [
            "num params: 31210\n"
          ]
        },
        {
          "output_type": "stream",
          "name": "stderr",
          "text": [
            "iter 468: train loss 0.07163: 100%|██████████| 469/469 [00:14<00:00, 32.11it/s]\n"
          ]
        },
        {
          "output_type": "display_data",
          "data": {
            "text/plain": [
              "<Figure size 432x288 with 2 Axes>"
            ],
            "image/png": "[encoded data removed]"
          },
          "metadata": {
            "needs_background": "light"
          }
        }
      ]
    },
    {
      "cell_type": "code",
      "source": [
        "# for a given compute value, pick the model with the minimum loss at that point\n",
        "computes = []\n",
        "sizes = []\n",
        "for c in np.linspace(7, 11, 10):\n",
        "    computes.append(c)\n",
        "    optimal_size = None\n",
        "    min_so_far = float('inf')\n",
        "    for poly, size in zip(polys, params):\n",
        "        if poly(c) < min_so_far:\n",
        "            optimal_size = size\n",
        "            min_so_far = poly(c)\n",
        "    sizes.append(optimal_size)"
      ],
      "metadata": {
        "id": "fudstWdBGS9W"
      },
      "execution_count": 25,
      "outputs": []
    },
    {
      "cell_type": "code",
      "source": [
        "data = {'log compute': computes, 'params': sizes}\n",
        "df = pd.DataFrame(data)\n",
        "df['log params'] = np.log10(df['params'])\n",
        "df.head()"
      ],
      "metadata": {
        "colab": {
          "base_uri": "https://localhost:8080/",
          "height": 206
        },
        "id": "k0IDgen7JrLd",
        "outputId": "659c4746-9899-4021-bd84-7740c63768bb"
      },
      "execution_count": 26,
      "outputs": [
        {
          "output_type": "execute_result",
          "data": {
            "text/plain": [
              "   log compute  params  log params\n",
              "0     7.000000    1960    3.292256\n",
              "1     7.444444    1960    3.292256\n",
              "2     7.888889    1960    3.292256\n",
              "3     8.333333    1960    3.292256\n",
              "4     8.777778    3910    3.592177"
            ],
            "text/html": [
              "\n",
              "  <div id=\"df-2a686f86-3ad3-4b91-ae26-05531d7ade8b\">\n",
              "    <div class=\"colab-df-container\">\n",
              "      <div>\n",
              "<style scoped>\n",
              "    .dataframe tbody tr th:only-of-type {\n",
              "        vertical-align: middle;\n",
              "    }\n",
              "\n",
              "    .dataframe tbody tr th {\n",
              "        vertical-align: top;\n",
              "    }\n",
              "\n",
              "    .dataframe thead th {\n",
              "        text-align: right;\n",
              "    }\n",
              "</style>\n",
              "<table border=\"1\" class=\"dataframe\">\n",
              "  <thead>\n",
              "    <tr style=\"text-align: right;\">\n",
              "      <th></th>\n",
              "      <th>log compute</th>\n",
              "      <th>params</th>\n",
              "      <th>log params</th>\n",
              "    </tr>\n",
              "  </thead>\n",
              "  <tbody>\n",
              "    <tr>\n",
              "      <th>0</th>\n",
              "      <td>7.000000</td>\n",
              "      <td>1960</td>\n",
              "      <td>3.292256</td>\n",
              "    </tr>\n",
              "    <tr>\n",
              "      <th>1</th>\n",
              "      <td>7.444444</td>\n",
              "      <td>1960</td>\n",
              "      <td>3.292256</td>\n",
              "    </tr>\n",
              "    <tr>\n",
              "      <th>2</th>\n",
              "      <td>7.888889</td>\n",
              "      <td>1960</td>\n",
              "      <td>3.292256</td>\n",
              "    </tr>\n",
              "    <tr>\n",
              "      <th>3</th>\n",
              "      <td>8.333333</td>\n",
              "      <td>1960</td>\n",
              "      <td>3.292256</td>\n",
              "    </tr>\n",
              "    <tr>\n",
              "      <th>4</th>\n",
              "      <td>8.777778</td>\n",
              "      <td>3910</td>\n",
              "      <td>3.592177</td>\n",
              "    </tr>\n",
              "  </tbody>\n",
              "</table>\n",
              "</div>\n",
              "      <button class=\"colab-df-convert\" onclick=\"convertToInteractive('df-2a686f86-3ad3-4b91-ae26-05531d7ade8b')\"\n",
              "              title=\"Convert this dataframe to an interactive table.\"\n",
              "              style=\"display:none;\">\n",
              "        \n",
              "  <svg xmlns=\"http://www.w3.org/2000/svg\" height=\"24px\"viewBox=\"0 0 24 24\"\n",
              "       width=\"24px\">\n",
              "    <path d=\"M0 0h24v24H0V0z\" fill=\"none\"/>\n",
              "    <path d=\"M18.56 5.44l.94 2.06.94-2.06 2.06-.94-2.06-.94-.94-2.06-.94 2.06-2.06.94zm-11 1L8.5 8.5l.94-2.06 2.06-.94-2.06-.94L8.5 2.5l-.94 2.06-2.06.94zm10 10l.94 2.06.94-2.06 2.06-.94-2.06-.94-.94-2.06-.94 2.06-2.06.94z\"/><path d=\"M17.41 7.96l-1.37-1.37c-.4-.4-.92-.59-1.43-.59-.52 0-1.04.2-1.43.59L10.3 9.45l-7.72 7.72c-.78.78-.78 2.05 0 2.83L4 21.41c.39.39.9.59 1.41.59.51 0 1.02-.2 1.41-.59l7.78-7.78 2.81-2.81c.8-.78.8-2.07 0-2.86zM5.41 20L4 18.59l7.72-7.72 1.47 1.35L5.41 20z\"/>\n",
              "  </svg>\n",
              "      </button>\n",
              "      \n",
              "  <style>\n",
              "    .colab-df-container {\n",
              "      display:flex;\n",
              "      flex-wrap:wrap;\n",
              "      gap: 12px;\n",
              "    }\n",
              "\n",
              "    .colab-df-convert {\n",
              "      background-color: #E8F0FE;\n",
              "      border: none;\n",
              "      border-radius: 50%;\n",
              "      cursor: pointer;\n",
              "      display: none;\n",
              "      fill: #1967D2;\n",
              "      height: 32px;\n",
              "      padding: 0 0 0 0;\n",
              "      width: 32px;\n",
              "    }\n",
              "\n",
              "    .colab-df-convert:hover {\n",
              "      background-color: #E2EBFA;\n",
              "      box-shadow: 0px 1px 2px rgba(60, 64, 67, 0.3), 0px 1px 3px 1px rgba(60, 64, 67, 0.15);\n",
              "      fill: #174EA6;\n",
              "    }\n",
              "\n",
              "    [theme=dark] .colab-df-convert {\n",
              "      background-color: #3B4455;\n",
              "      fill: #D2E3FC;\n",
              "    }\n",
              "\n",
              "    [theme=dark] .colab-df-convert:hover {\n",
              "      background-color: #434B5C;\n",
              "      box-shadow: 0px 1px 3px 1px rgba(0, 0, 0, 0.15);\n",
              "      filter: drop-shadow(0px 1px 2px rgba(0, 0, 0, 0.3));\n",
              "      fill: #FFFFFF;\n",
              "    }\n",
              "  </style>\n",
              "\n",
              "      <script>\n",
              "        const buttonEl =\n",
              "          document.querySelector('#df-2a686f86-3ad3-4b91-ae26-05531d7ade8b button.colab-df-convert');\n",
              "        buttonEl.style.display =\n",
              "          google.colab.kernel.accessAllowed ? 'block' : 'none';\n",
              "\n",
              "        async function convertToInteractive(key) {\n",
              "          const element = document.querySelector('#df-2a686f86-3ad3-4b91-ae26-05531d7ade8b');\n",
              "          const dataTable =\n",
              "            await google.colab.kernel.invokeFunction('convertToInteractive',\n",
              "                                                     [key], {});\n",
              "          if (!dataTable) return;\n",
              "\n",
              "          const docLinkHtml = 'Like what you see? Visit the ' +\n",
              "            '<a target=\"_blank\" href=https://colab.research.google.com/notebooks/data_table.ipynb>data table notebook</a>'\n",
              "            + ' to learn more about interactive tables.';\n",
              "          element.innerHTML = '';\n",
              "          dataTable['output_type'] = 'display_data';\n",
              "          await google.colab.output.renderOutput(dataTable, element);\n",
              "          const docLink = document.createElement('div');\n",
              "          docLink.innerHTML = docLinkHtml;\n",
              "          element.appendChild(docLink);\n",
              "        }\n",
              "      </script>\n",
              "    </div>\n",
              "  </div>\n",
              "  "
            ]
          },
          "metadata": {},
          "execution_count": 26
        }
      ]
    },
    {
      "cell_type": "code",
      "source": [
        "sns.lmplot(data=df, x='log compute', y='log params');"
      ],
      "metadata": {
        "colab": {
          "base_uri": "https://localhost:8080/",
          "height": 369
        },
        "id": "0kJc_HENK5ty",
        "outputId": "1727e980-2186-4989-95ad-4b6fffbe97f4"
      },
      "execution_count": 27,
      "outputs": [
        {
          "output_type": "display_data",
          "data": {
            "text/plain": [
              "<Figure size 360x360 with 1 Axes>"
            ],
            "image/png": "[encoded data removed]"
          },
          "metadata": {
            "needs_background": "light"
          }
        }
      ]
    },
    {
      "cell_type": "code",
      "source": [
        "# analyze N_opt(C) power law\n",
        "slope, intercept, r_value, p_value, std_err = stats.linregress(df['log compute'],df['log params'])\n",
        "print(f\"slope: {slope}, intercept: {intercept}\")"
      ],
      "metadata": {
        "colab": {
          "base_uri": "https://localhost:8080/"
        },
        "id": "i5VXeYhfRW4A",
        "outputId": "6004cca1-392d-4d38-983d-79e2520faab4"
      },
      "execution_count": 28,
      "outputs": [
        {
          "output_type": "stream",
          "name": "stdout",
          "text": [
            "slope: 0.3687814981506611, intercept: 0.4538575306531434\n"
          ]
        }
      ]
    },
    {
      "cell_type": "markdown",
      "source": [
        "## For the dataset size, multiply the fraction of the full dataset used by powers of 2 (i.e. 1, 1/2, 1/4, ...). To reduce noise, use a few random seeds and always use the full validation set."
      ],
      "metadata": {
        "id": "Y9MMvH9TJkw2"
      }
    },
    {
      "cell_type": "code",
      "source": [
        "# train function that will use dataset of size len(train_dataset) // scaling_factor\n",
        "def train_subset(model, optimizer, scaling_factor):\n",
        "    model.train()\n",
        "    print(f\"training model with: {model.num_params} parameters\")\n",
        "    train_subset = Subset(train_dataset, range(0, len(train_dataset) // scaling_factor))\n",
        "    train_loader_subset = DataLoader(dataset=train_subset,\n",
        "                                    batch_size=batch_size,\n",
        "                                    shuffle=True)\n",
        "    print(f\"dataset size: {len(train_loader_subset.dataset)}, {1/scaling_factor} of full train_dataset\")\n",
        "    pbar = tqdm(enumerate(train_loader_subset), total=len(train_loader_subset))\n",
        "    for it, (images, labels) in pbar:  \n",
        "        images = images.to(device)\n",
        "        labels = labels.to(device)\n",
        "        \n",
        "        #Forward pass\n",
        "        outputs = model(images)\n",
        "        loss = loss_fn(outputs, labels)\n",
        "            \n",
        "        # Backward and optimize\n",
        "        optimizer.zero_grad()\n",
        "        loss.backward()\n",
        "        optimizer.step()\n",
        "\n",
        "        pbar.set_description(f\"iter {it}: train loss {loss.item():.5f}\")"
      ],
      "metadata": {
        "id": "Nsl09UDaMWBt"
      },
      "execution_count": 29,
      "outputs": []
    },
    {
      "cell_type": "code",
      "source": [
        "# now train / test multiple dataset sizes to observe dataset size scaling laws\n",
        "num_datasets = 5\n",
        "num_trials = 5\n",
        "dataset_size = [0] * num_datasets\n",
        "test_loss = [0] * num_datasets\n",
        "accuracy = [0] * num_datasets\n",
        "for power in range(num_datasets):\n",
        "    for _ in range(num_trials):\n",
        "        model = WideConvNet(scaling_factor=2**5).to(device)\n",
        "        loss_fn = nn.CrossEntropyLoss()\n",
        "        optimizer = torch.optim.Adam(model.parameters(), lr=LR(model.num_params))\n",
        "        train_subset(model, optimizer, scaling_factor=2**power)\n",
        "        tloss, acc = test(model)\n",
        "        test_loss[power] += tloss\n",
        "        accuracy[power] += acc\n",
        "        print(\"\\n\")\n",
        "    dataset_size[power] = len(train_dataset) // 2**power\n",
        "    params[power] = model.num_params\n",
        "    test_loss[power] /= num_trials\n",
        "    accuracy[power] /= num_trials"
      ],
      "metadata": {
        "id": "UNRgurC1OZDB"
      },
      "execution_count": null,
      "outputs": []
    },
    {
      "cell_type": "code",
      "source": [
        "data = {'dataset_size' : dataset_size, 'loss': test_loss, 'accuracy': accuracy} \n",
        "df = pd.DataFrame(data)\n",
        "df['log dataset_size'] = np.log10(df['dataset_size'])\n",
        "df['log loss'] = np.log10(df['loss'])\n",
        "df"
      ],
      "metadata": {
        "colab": {
          "base_uri": "https://localhost:8080/",
          "height": 206
        },
        "id": "gvnqTc_XPnPd",
        "outputId": "ce4d2bc7-3231-4c75-9579-36de4a4052e6"
      },
      "execution_count": 32,
      "outputs": [
        {
          "output_type": "execute_result",
          "data": {
            "text/plain": [
              "   dataset_size      loss  accuracy  log dataset_size  log loss\n",
              "0         60000  0.086652   0.97186          4.778151 -1.062222\n",
              "1         30000  0.095734   0.97068          4.477121 -1.018935\n",
              "2         15000  0.162281   0.95238          4.176091 -0.789733\n",
              "3          7500  0.255476   0.92558          3.875061 -0.592650\n",
              "4          3750  0.376398   0.88470          3.574031 -0.424353"
            ],
            "text/html": [
              "\n",
              "  <div id=\"df-7695e2c1-5eec-498c-a733-b49df840aeb7\">\n",
              "    <div class=\"colab-df-container\">\n",
              "      <div>\n",
              "<style scoped>\n",
              "    .dataframe tbody tr th:only-of-type {\n",
              "        vertical-align: middle;\n",
              "    }\n",
              "\n",
              "    .dataframe tbody tr th {\n",
              "        vertical-align: top;\n",
              "    }\n",
              "\n",
              "    .dataframe thead th {\n",
              "        text-align: right;\n",
              "    }\n",
              "</style>\n",
              "<table border=\"1\" class=\"dataframe\">\n",
              "  <thead>\n",
              "    <tr style=\"text-align: right;\">\n",
              "      <th></th>\n",
              "      <th>dataset_size</th>\n",
              "      <th>loss</th>\n",
              "      <th>accuracy</th>\n",
              "      <th>log dataset_size</th>\n",
              "      <th>log loss</th>\n",
              "    </tr>\n",
              "  </thead>\n",
              "  <tbody>\n",
              "    <tr>\n",
              "      <th>0</th>\n",
              "      <td>60000</td>\n",
              "      <td>0.086652</td>\n",
              "      <td>0.97186</td>\n",
              "      <td>4.778151</td>\n",
              "      <td>-1.062222</td>\n",
              "    </tr>\n",
              "    <tr>\n",
              "      <th>1</th>\n",
              "      <td>30000</td>\n",
              "      <td>0.095734</td>\n",
              "      <td>0.97068</td>\n",
              "      <td>4.477121</td>\n",
              "      <td>-1.018935</td>\n",
              "    </tr>\n",
              "    <tr>\n",
              "      <th>2</th>\n",
              "      <td>15000</td>\n",
              "      <td>0.162281</td>\n",
              "      <td>0.95238</td>\n",
              "      <td>4.176091</td>\n",
              "      <td>-0.789733</td>\n",
              "    </tr>\n",
              "    <tr>\n",
              "      <th>3</th>\n",
              "      <td>7500</td>\n",
              "      <td>0.255476</td>\n",
              "      <td>0.92558</td>\n",
              "      <td>3.875061</td>\n",
              "      <td>-0.592650</td>\n",
              "    </tr>\n",
              "    <tr>\n",
              "      <th>4</th>\n",
              "      <td>3750</td>\n",
              "      <td>0.376398</td>\n",
              "      <td>0.88470</td>\n",
              "      <td>3.574031</td>\n",
              "      <td>-0.424353</td>\n",
              "    </tr>\n",
              "  </tbody>\n",
              "</table>\n",
              "</div>\n",
              "      <button class=\"colab-df-convert\" onclick=\"convertToInteractive('df-7695e2c1-5eec-498c-a733-b49df840aeb7')\"\n",
              "              title=\"Convert this dataframe to an interactive table.\"\n",
              "              style=\"display:none;\">\n",
              "        \n",
              "  <svg xmlns=\"http://www.w3.org/2000/svg\" height=\"24px\"viewBox=\"0 0 24 24\"\n",
              "       width=\"24px\">\n",
              "    <path d=\"M0 0h24v24H0V0z\" fill=\"none\"/>\n",
              "    <path d=\"M18.56 5.44l.94 2.06.94-2.06 2.06-.94-2.06-.94-.94-2.06-.94 2.06-2.06.94zm-11 1L8.5 8.5l.94-2.06 2.06-.94-2.06-.94L8.5 2.5l-.94 2.06-2.06.94zm10 10l.94 2.06.94-2.06 2.06-.94-2.06-.94-.94-2.06-.94 2.06-2.06.94z\"/><path d=\"M17.41 7.96l-1.37-1.37c-.4-.4-.92-.59-1.43-.59-.52 0-1.04.2-1.43.59L10.3 9.45l-7.72 7.72c-.78.78-.78 2.05 0 2.83L4 21.41c.39.39.9.59 1.41.59.51 0 1.02-.2 1.41-.59l7.78-7.78 2.81-2.81c.8-.78.8-2.07 0-2.86zM5.41 20L4 18.59l7.72-7.72 1.47 1.35L5.41 20z\"/>\n",
              "  </svg>\n",
              "      </button>\n",
              "      \n",
              "  <style>\n",
              "    .colab-df-container {\n",
              "      display:flex;\n",
              "      flex-wrap:wrap;\n",
              "      gap: 12px;\n",
              "    }\n",
              "\n",
              "    .colab-df-convert {\n",
              "      background-color: #E8F0FE;\n",
              "      border: none;\n",
              "      border-radius: 50%;\n",
              "      cursor: pointer;\n",
              "      display: none;\n",
              "      fill: #1967D2;\n",
              "      height: 32px;\n",
              "      padding: 0 0 0 0;\n",
              "      width: 32px;\n",
              "    }\n",
              "\n",
              "    .colab-df-convert:hover {\n",
              "      background-color: #E2EBFA;\n",
              "      box-shadow: 0px 1px 2px rgba(60, 64, 67, 0.3), 0px 1px 3px 1px rgba(60, 64, 67, 0.15);\n",
              "      fill: #174EA6;\n",
              "    }\n",
              "\n",
              "    [theme=dark] .colab-df-convert {\n",
              "      background-color: #3B4455;\n",
              "      fill: #D2E3FC;\n",
              "    }\n",
              "\n",
              "    [theme=dark] .colab-df-convert:hover {\n",
              "      background-color: #434B5C;\n",
              "      box-shadow: 0px 1px 3px 1px rgba(0, 0, 0, 0.15);\n",
              "      filter: drop-shadow(0px 1px 2px rgba(0, 0, 0, 0.3));\n",
              "      fill: #FFFFFF;\n",
              "    }\n",
              "  </style>\n",
              "\n",
              "      <script>\n",
              "        const buttonEl =\n",
              "          document.querySelector('#df-7695e2c1-5eec-498c-a733-b49df840aeb7 button.colab-df-convert');\n",
              "        buttonEl.style.display =\n",
              "          google.colab.kernel.accessAllowed ? 'block' : 'none';\n",
              "\n",
              "        async function convertToInteractive(key) {\n",
              "          const element = document.querySelector('#df-7695e2c1-5eec-498c-a733-b49df840aeb7');\n",
              "          const dataTable =\n",
              "            await google.colab.kernel.invokeFunction('convertToInteractive',\n",
              "                                                     [key], {});\n",
              "          if (!dataTable) return;\n",
              "\n",
              "          const docLinkHtml = 'Like what you see? Visit the ' +\n",
              "            '<a target=\"_blank\" href=https://colab.research.google.com/notebooks/data_table.ipynb>data table notebook</a>'\n",
              "            + ' to learn more about interactive tables.';\n",
              "          element.innerHTML = '';\n",
              "          dataTable['output_type'] = 'display_data';\n",
              "          await google.colab.output.renderOutput(dataTable, element);\n",
              "          const docLink = document.createElement('div');\n",
              "          docLink.innerHTML = docLinkHtml;\n",
              "          element.appendChild(docLink);\n",
              "        }\n",
              "      </script>\n",
              "    </div>\n",
              "  </div>\n",
              "  "
            ]
          },
          "metadata": {},
          "execution_count": 32
        }
      ]
    },
    {
      "cell_type": "code",
      "source": [
        "sns.scatterplot(data=df, x=\"dataset_size\", y=\"loss\");"
      ],
      "metadata": {
        "colab": {
          "base_uri": "https://localhost:8080/",
          "height": 280
        },
        "id": "AaX0W5YzP-hG",
        "outputId": "530e5b49-676a-4f35-c52d-2dc3b89ecb44"
      },
      "execution_count": 33,
      "outputs": [
        {
          "output_type": "display_data",
          "data": {
            "text/plain": [
              "<Figure size 432x288 with 1 Axes>"
            ],
            "image/png": "[encoded data removed]"
          },
          "metadata": {
            "needs_background": "light"
          }
        }
      ]
    },
    {
      "cell_type": "code",
      "source": [
        "sns.lmplot(data=df, x=\"log dataset_size\", y=\"log loss\");"
      ],
      "metadata": {
        "colab": {
          "base_uri": "https://localhost:8080/",
          "height": 369
        },
        "id": "vq-0kXQvZnA1",
        "outputId": "a80dd34d-54cc-42c0-ed86-a01d30e8d388"
      },
      "execution_count": 34,
      "outputs": [
        {
          "output_type": "display_data",
          "data": {
            "text/plain": [
              "<Figure size 360x360 with 1 Axes>"
            ],
            "image/png": "[encoded data removed]"
          },
          "metadata": {
            "needs_background": "light"
          }
        }
      ]
    },
    {
      "cell_type": "code",
      "source": [
        "sns.scatterplot(data=df, x=\"dataset_size\", y=\"accuracy\");"
      ],
      "metadata": {
        "colab": {
          "base_uri": "https://localhost:8080/",
          "height": 280
        },
        "id": "eOqxN8TUQYa7",
        "outputId": "83f2a807-3a23-49eb-fcf5-150d4d05e308"
      },
      "execution_count": 35,
      "outputs": [
        {
          "output_type": "display_data",
          "data": {
            "text/plain": [
              "<Figure size 432x288 with 1 Axes>"
            ],
            "image/png": "[encoded data removed]"
          },
          "metadata": {
            "needs_background": "light"
          }
        }
      ]
    },
    {
      "cell_type": "code",
      "source": [
        "# analyze L(D) power law\n",
        "slope, intercept, r_value, p_value, std_err = stats.linregress(df['log dataset_size'],df['log loss'])\n",
        "print(f\"slope: {slope}, intercept: {intercept}\")"
      ],
      "metadata": {
        "colab": {
          "base_uri": "https://localhost:8080/"
        },
        "id": "aHfRFI4CSGlm",
        "outputId": "fb2de955-c5eb-4580-ba0e-f623ec950186"
      },
      "execution_count": 36,
      "outputs": [
        {
          "output_type": "stream",
          "name": "stdout",
          "text": [
            "slope: -0.5653998722049364, intercept: 1.5835829435122517\n"
          ]
        }
      ]
    },
    {
      "cell_type": "markdown",
      "source": [
        "## Repeat your entire experiment with 20% dropout to see how this affects the scaling exponents."
      ],
      "metadata": {
        "id": "oGjybwMl6sK6"
      }
    },
    {
      "cell_type": "markdown",
      "source": [
        "First, parameter scaling laws"
      ],
      "metadata": {
        "id": "dFudNEogmZiI"
      }
    },
    {
      "cell_type": "code",
      "source": [
        "# now train / test all models to observe scaling laws\n",
        "# scaling factors: 2^0, 2^1, 2^2, ... \n",
        "num_models = 5\n",
        "num_trials = 5\n",
        "params = [0] * num_models\n",
        "test_loss = [0] * num_models\n",
        "accuracy = [0] * num_models\n",
        "for power in range(num_models):\n",
        "    for _ in range(num_trials):\n",
        "        model = WideConvNet(scaling_factor=2**power, dropout=0.2).to(device)\n",
        "        loss_fn = nn.CrossEntropyLoss()\n",
        "        learning_rate = LR(model.num_params)\n",
        "        optimizer = torch.optim.Adam(model.parameters(), lr=learning_rate)\n",
        "        train(model, optimizer)\n",
        "        tloss, acc = test(model)\n",
        "        test_loss[power] += tloss\n",
        "        accuracy[power] += acc\n",
        "        print(\"\\n\")\n",
        "    test_loss[power] /= num_trials\n",
        "    accuracy[power] /= num_trials\n",
        "    params[power] = model.num_params"
      ],
      "metadata": {
        "id": "xQUy6g1HmlDS"
      },
      "execution_count": null,
      "outputs": []
    },
    {
      "cell_type": "code",
      "source": [
        "data = {'params' : params, 'loss': test_loss, 'accuracy': accuracy} \n",
        "df = pd.DataFrame(data)\n",
        "df['log params'] = np.log10(df['params'])\n",
        "df['log loss'] = np.log10(df['loss'])\n",
        "df"
      ],
      "metadata": {
        "colab": {
          "base_uri": "https://localhost:8080/",
          "height": 206
        },
        "id": "nPGTUGGUmqfe",
        "outputId": "7b06a39e-56a6-4607-d30e-f45e4bb974ad"
      },
      "execution_count": 38,
      "outputs": [
        {
          "output_type": "execute_result",
          "data": {
            "text/plain": [
              "   params      loss  accuracy  log params  log loss\n",
              "0    1960  0.240611   0.93194    3.292256 -0.618684\n",
              "1    3910  0.173246   0.94998    3.592177 -0.761338\n",
              "2    7810  0.115649   0.96528    3.892651 -0.936858\n",
              "3   15610  0.092832   0.97154    4.193403 -1.032302\n",
              "4   31210  0.081124   0.97406    4.494294 -1.090852"
            ],
            "text/html": [
              "\n",
              "  <div id=\"df-e6c74c4e-ebed-46e0-a0c8-0b99634064a3\">\n",
              "    <div class=\"colab-df-container\">\n",
              "      <div>\n",
              "<style scoped>\n",
              "    .dataframe tbody tr th:only-of-type {\n",
              "        vertical-align: middle;\n",
              "    }\n",
              "\n",
              "    .dataframe tbody tr th {\n",
              "        vertical-align: top;\n",
              "    }\n",
              "\n",
              "    .dataframe thead th {\n",
              "        text-align: right;\n",
              "    }\n",
              "</style>\n",
              "<table border=\"1\" class=\"dataframe\">\n",
              "  <thead>\n",
              "    <tr style=\"text-align: right;\">\n",
              "      <th></th>\n",
              "      <th>params</th>\n",
              "      <th>loss</th>\n",
              "      <th>accuracy</th>\n",
              "      <th>log params</th>\n",
              "      <th>log loss</th>\n",
              "    </tr>\n",
              "  </thead>\n",
              "  <tbody>\n",
              "    <tr>\n",
              "      <th>0</th>\n",
              "      <td>1960</td>\n",
              "      <td>0.240611</td>\n",
              "      <td>0.93194</td>\n",
              "      <td>3.292256</td>\n",
              "      <td>-0.618684</td>\n",
              "    </tr>\n",
              "    <tr>\n",
              "      <th>1</th>\n",
              "      <td>3910</td>\n",
              "      <td>0.173246</td>\n",
              "      <td>0.94998</td>\n",
              "      <td>3.592177</td>\n",
              "      <td>-0.761338</td>\n",
              "    </tr>\n",
              "    <tr>\n",
              "      <th>2</th>\n",
              "      <td>7810</td>\n",
              "      <td>0.115649</td>\n",
              "      <td>0.96528</td>\n",
              "      <td>3.892651</td>\n",
              "      <td>-0.936858</td>\n",
              "    </tr>\n",
              "    <tr>\n",
              "      <th>3</th>\n",
              "      <td>15610</td>\n",
              "      <td>0.092832</td>\n",
              "      <td>0.97154</td>\n",
              "      <td>4.193403</td>\n",
              "      <td>-1.032302</td>\n",
              "    </tr>\n",
              "    <tr>\n",
              "      <th>4</th>\n",
              "      <td>31210</td>\n",
              "      <td>0.081124</td>\n",
              "      <td>0.97406</td>\n",
              "      <td>4.494294</td>\n",
              "      <td>-1.090852</td>\n",
              "    </tr>\n",
              "  </tbody>\n",
              "</table>\n",
              "</div>\n",
              "      <button class=\"colab-df-convert\" onclick=\"convertToInteractive('df-e6c74c4e-ebed-46e0-a0c8-0b99634064a3')\"\n",
              "              title=\"Convert this dataframe to an interactive table.\"\n",
              "              style=\"display:none;\">\n",
              "        \n",
              "  <svg xmlns=\"http://www.w3.org/2000/svg\" height=\"24px\"viewBox=\"0 0 24 24\"\n",
              "       width=\"24px\">\n",
              "    <path d=\"M0 0h24v24H0V0z\" fill=\"none\"/>\n",
              "    <path d=\"M18.56 5.44l.94 2.06.94-2.06 2.06-.94-2.06-.94-.94-2.06-.94 2.06-2.06.94zm-11 1L8.5 8.5l.94-2.06 2.06-.94-2.06-.94L8.5 2.5l-.94 2.06-2.06.94zm10 10l.94 2.06.94-2.06 2.06-.94-2.06-.94-.94-2.06-.94 2.06-2.06.94z\"/><path d=\"M17.41 7.96l-1.37-1.37c-.4-.4-.92-.59-1.43-.59-.52 0-1.04.2-1.43.59L10.3 9.45l-7.72 7.72c-.78.78-.78 2.05 0 2.83L4 21.41c.39.39.9.59 1.41.59.51 0 1.02-.2 1.41-.59l7.78-7.78 2.81-2.81c.8-.78.8-2.07 0-2.86zM5.41 20L4 18.59l7.72-7.72 1.47 1.35L5.41 20z\"/>\n",
              "  </svg>\n",
              "      </button>\n",
              "      \n",
              "  <style>\n",
              "    .colab-df-container {\n",
              "      display:flex;\n",
              "      flex-wrap:wrap;\n",
              "      gap: 12px;\n",
              "    }\n",
              "\n",
              "    .colab-df-convert {\n",
              "      background-color: #E8F0FE;\n",
              "      border: none;\n",
              "      border-radius: 50%;\n",
              "      cursor: pointer;\n",
              "      display: none;\n",
              "      fill: #1967D2;\n",
              "      height: 32px;\n",
              "      padding: 0 0 0 0;\n",
              "      width: 32px;\n",
              "    }\n",
              "\n",
              "    .colab-df-convert:hover {\n",
              "      background-color: #E2EBFA;\n",
              "      box-shadow: 0px 1px 2px rgba(60, 64, 67, 0.3), 0px 1px 3px 1px rgba(60, 64, 67, 0.15);\n",
              "      fill: #174EA6;\n",
              "    }\n",
              "\n",
              "    [theme=dark] .colab-df-convert {\n",
              "      background-color: #3B4455;\n",
              "      fill: #D2E3FC;\n",
              "    }\n",
              "\n",
              "    [theme=dark] .colab-df-convert:hover {\n",
              "      background-color: #434B5C;\n",
              "      box-shadow: 0px 1px 3px 1px rgba(0, 0, 0, 0.15);\n",
              "      filter: drop-shadow(0px 1px 2px rgba(0, 0, 0, 0.3));\n",
              "      fill: #FFFFFF;\n",
              "    }\n",
              "  </style>\n",
              "\n",
              "      <script>\n",
              "        const buttonEl =\n",
              "          document.querySelector('#df-e6c74c4e-ebed-46e0-a0c8-0b99634064a3 button.colab-df-convert');\n",
              "        buttonEl.style.display =\n",
              "          google.colab.kernel.accessAllowed ? 'block' : 'none';\n",
              "\n",
              "        async function convertToInteractive(key) {\n",
              "          const element = document.querySelector('#df-e6c74c4e-ebed-46e0-a0c8-0b99634064a3');\n",
              "          const dataTable =\n",
              "            await google.colab.kernel.invokeFunction('convertToInteractive',\n",
              "                                                     [key], {});\n",
              "          if (!dataTable) return;\n",
              "\n",
              "          const docLinkHtml = 'Like what you see? Visit the ' +\n",
              "            '<a target=\"_blank\" href=https://colab.research.google.com/notebooks/data_table.ipynb>data table notebook</a>'\n",
              "            + ' to learn more about interactive tables.';\n",
              "          element.innerHTML = '';\n",
              "          dataTable['output_type'] = 'display_data';\n",
              "          await google.colab.output.renderOutput(dataTable, element);\n",
              "          const docLink = document.createElement('div');\n",
              "          docLink.innerHTML = docLinkHtml;\n",
              "          element.appendChild(docLink);\n",
              "        }\n",
              "      </script>\n",
              "    </div>\n",
              "  </div>\n",
              "  "
            ]
          },
          "metadata": {},
          "execution_count": 38
        }
      ]
    },
    {
      "cell_type": "code",
      "source": [
        "sns.scatterplot(data=df, x=\"params\", y=\"loss\");"
      ],
      "metadata": {
        "colab": {
          "base_uri": "https://localhost:8080/",
          "height": 279
        },
        "id": "h1hQXknPmu99",
        "outputId": "074f0299-93e9-4841-c45b-cfbb2ad04f6d"
      },
      "execution_count": 39,
      "outputs": [
        {
          "output_type": "display_data",
          "data": {
            "text/plain": [
              "<Figure size 432x288 with 1 Axes>"
            ],
            "image/png": "[encoded data removed]"
          },
          "metadata": {
            "needs_background": "light"
          }
        }
      ]
    },
    {
      "cell_type": "code",
      "source": [
        "sns.lmplot(data=df, x=\"log params\", y=\"log loss\");"
      ],
      "metadata": {
        "colab": {
          "base_uri": "https://localhost:8080/",
          "height": 369
        },
        "id": "PfV3yGKzm2d1",
        "outputId": "43d41dec-2a0f-411f-a50d-a98e8e13d845"
      },
      "execution_count": 40,
      "outputs": [
        {
          "output_type": "display_data",
          "data": {
            "text/plain": [
              "<Figure size 360x360 with 1 Axes>"
            ],
            "image/png": "[encoded data removed]"
          },
          "metadata": {
            "needs_background": "light"
          }
        }
      ]
    },
    {
      "cell_type": "code",
      "source": [
        "# analyze L(N) power law\n",
        "slope, intercept, r_value, p_value, std_err = stats.linregress(df['log params'],df['log loss'])\n",
        "print(f\"slope: {slope}, intercept: {intercept}\")"
      ],
      "metadata": {
        "colab": {
          "base_uri": "https://localhost:8080/"
        },
        "id": "nxq1oaG6zhPj",
        "outputId": "3a12ea5a-c1c5-4816-d466-86b273a03ffb"
      },
      "execution_count": 41,
      "outputs": [
        {
          "output_type": "stream",
          "name": "stdout",
          "text": [
            "slope: -0.4043452945629377, intercept: 0.6860917649644679\n"
          ]
        }
      ]
    },
    {
      "cell_type": "code",
      "source": [
        "sns.scatterplot(data=df, x=\"params\", y=\"accuracy\")"
      ],
      "metadata": {
        "colab": {
          "base_uri": "https://localhost:8080/",
          "height": 297
        },
        "id": "ctF_xs1om5pF",
        "outputId": "e9ff420c-810b-4fc4-ddcc-62e401cf2470"
      },
      "execution_count": 42,
      "outputs": [
        {
          "output_type": "execute_result",
          "data": {
            "text/plain": [
              "<matplotlib.axes._subplots.AxesSubplot at 0x7ff38c897590>"
            ]
          },
          "metadata": {},
          "execution_count": 42
        },
        {
          "output_type": "display_data",
          "data": {
            "text/plain": [
              "<Figure size 432x288 with 1 Axes>"
            ],
            "image/png": "[encoded data removed]"
          },
          "metadata": {
            "needs_background": "light"
          }
        }
      ]
    },
    {
      "cell_type": "markdown",
      "source": [
        "Compute-efficient frontier / optimal model size scaling laws"
      ],
      "metadata": {
        "id": "kSMfAaQjm-vm"
      }
    },
    {
      "cell_type": "code",
      "source": [
        "# train function that records loss vs compute\n",
        "def get_compute_train_loss_data(model, max_epochs=1):\n",
        "    loss_fn = nn.CrossEntropyLoss()\n",
        "    learning_rate = LR(model.num_params)\n",
        "    optimizer = torch.optim.Adam(model.parameters(), lr=learning_rate)\n",
        "    \n",
        "    compute_used = []\n",
        "    train_loss = []\n",
        "    \n",
        "    iters_per_epoch = len(train_loader)\n",
        "    for epoch in range(max_epochs):\n",
        "        pbar = tqdm(enumerate(train_loader), total=len(train_loader))\n",
        "        for it, (images, labels) in pbar:  \n",
        "            model.train()\n",
        "            images = images.to(device)\n",
        "            labels = labels.to(device)\n",
        "            \n",
        "            outputs = model(images)\n",
        "            loss = loss_fn(outputs, labels)\n",
        "                \n",
        "            optimizer.zero_grad()\n",
        "            loss.backward()\n",
        "            optimizer.step()\n",
        "        \n",
        "            pbar.set_description(f\"iter {it}: train loss {loss.item():.5f}\")\n",
        "            \n",
        "            past_iters = epoch * iters_per_epoch\n",
        "            # this uses C = 6NBS from the neural scaling laws paper\n",
        "            compute_used.append(6 * model.num_params * batch_size * (it + 1 + past_iters))\n",
        "            train_loss.append(loss.item())\n",
        "    return compute_used, train_loss"
      ],
      "metadata": {
        "id": "EPnBrsRym8av"
      },
      "execution_count": 43,
      "outputs": []
    },
    {
      "cell_type": "code",
      "source": [
        "# function to train multiple models and record the data we care about\n",
        "# also fits the loss curves and keeps track of the polynomials, so that we\n",
        "# can use them to infer optimal model size later\n",
        "def plot_loss_vs_train_compute(num_models, max_epochs=1):\n",
        "    df = pd.DataFrame()\n",
        "    funcs = []\n",
        "    params = []\n",
        "    fig, (ax1, ax2) = plt.subplots(1, 2)\n",
        "    for power in range(num_models):\n",
        "        temp_df = pd.DataFrame()\n",
        "        model = WideConvNet(scaling_factor=2**power, dropout=0.2).to(device)\n",
        "        compute, train_loss = get_compute_train_loss_data(model, max_epochs)\n",
        "        temp_df['compute'] = compute\n",
        "        temp_df['train_loss'] = train_loss\n",
        "        temp_df['log compute'] = np.log10(compute)\n",
        "        temp_df['log train_loss'] = np.log10(train_loss)\n",
        "        temp_df['modelsize'] = model.num_params\n",
        "        # fit curve\n",
        "        x = temp_df['log compute'].values\n",
        "        y = temp_df['log train_loss'].values\n",
        "        z = np.polyfit(x, y, 3)\n",
        "        f = np.poly1d(z)\n",
        "\n",
        "        funcs.append(f) \n",
        "        params.append(model.num_params)\n",
        "\n",
        "        # plot log train_loss vs log compute\n",
        "        x_new = np.linspace(x[0], x[-1], 50)\n",
        "        y_new = f(x_new)\n",
        "    \n",
        "        ax2.plot(x_new, y_new)\n",
        "        ax1.scatter(np.log10(compute), np.log10(train_loss))\n",
        "        df = df.append(temp_df)\n",
        "    plt.show()\n",
        "    return df, funcs, params\n",
        "\n",
        "df, polys, params = plot_loss_vs_train_compute(num_models=5, max_epochs=1)"
      ],
      "metadata": {
        "colab": {
          "base_uri": "https://localhost:8080/",
          "height": 445
        },
        "id": "68Ao2XM0nG72",
        "outputId": "9638f711-87da-4a34-8eb1-b85e9abbc598"
      },
      "execution_count": 45,
      "outputs": [
        {
          "output_type": "stream",
          "name": "stdout",
          "text": [
            "num params: 1960\n"
          ]
        },
        {
          "output_type": "stream",
          "name": "stderr",
          "text": [
            "iter 468: train loss 0.52373: 100%|██████████| 469/469 [00:14<00:00, 33.03it/s]\n"
          ]
        },
        {
          "output_type": "stream",
          "name": "stdout",
          "text": [
            "num params: 3910\n"
          ]
        },
        {
          "output_type": "stream",
          "name": "stderr",
          "text": [
            "iter 468: train loss 0.17987: 100%|██████████| 469/469 [00:17<00:00, 26.88it/s]\n"
          ]
        },
        {
          "output_type": "stream",
          "name": "stdout",
          "text": [
            "num params: 7810\n"
          ]
        },
        {
          "output_type": "stream",
          "name": "stderr",
          "text": [
            "iter 468: train loss 0.19875: 100%|██████████| 469/469 [00:17<00:00, 26.12it/s]\n"
          ]
        },
        {
          "output_type": "stream",
          "name": "stdout",
          "text": [
            "num params: 15610\n"
          ]
        },
        {
          "output_type": "stream",
          "name": "stderr",
          "text": [
            "iter 468: train loss 0.10518: 100%|██████████| 469/469 [00:14<00:00, 33.36it/s]\n"
          ]
        },
        {
          "output_type": "stream",
          "name": "stdout",
          "text": [
            "num params: 31210\n"
          ]
        },
        {
          "output_type": "stream",
          "name": "stderr",
          "text": [
            "iter 468: train loss 0.06962: 100%|██████████| 469/469 [00:13<00:00, 33.78it/s]\n"
          ]
        },
        {
          "output_type": "display_data",
          "data": {
            "text/plain": [
              "<Figure size 432x288 with 2 Axes>"
            ],
            "image/png": "[encoded data removed]"
          },
          "metadata": {
            "needs_background": "light"
          }
        }
      ]
    },
    {
      "cell_type": "code",
      "source": [
        "# for a given compute value, pick the model with the minimum loss at that point\n",
        "computes = []\n",
        "sizes = []\n",
        "for c in np.linspace(7, 11, 10):\n",
        "    computes.append(c)\n",
        "    optimal_size = None\n",
        "    min_so_far = float('inf')\n",
        "    for poly, size in zip(polys, params):\n",
        "        if poly(c) < min_so_far:\n",
        "            optimal_size = size\n",
        "            min_so_far = poly(c)\n",
        "    sizes.append(optimal_size)"
      ],
      "metadata": {
        "id": "10HKK3uCnKI-"
      },
      "execution_count": 46,
      "outputs": []
    },
    {
      "cell_type": "code",
      "source": [
        "data = {'log compute': computes, 'params': sizes}\n",
        "df = pd.DataFrame(data)\n",
        "df['log params'] = np.log10(df['params'])\n",
        "df.head()"
      ],
      "metadata": {
        "colab": {
          "base_uri": "https://localhost:8080/",
          "height": 206
        },
        "id": "w2XoFidSnPaH",
        "outputId": "c5178ea1-c3fe-4752-8a01-d6407cea5b0b"
      },
      "execution_count": 48,
      "outputs": [
        {
          "output_type": "execute_result",
          "data": {
            "text/plain": [
              "   log compute  params  log params\n",
              "0     7.000000    1960    3.292256\n",
              "1     7.444444    1960    3.292256\n",
              "2     7.888889    1960    3.292256\n",
              "3     8.333333    1960    3.292256\n",
              "4     8.777778    7810    3.892651"
            ],
            "text/html": [
              "\n",
              "  <div id=\"df-6f6d8fa3-76b8-461d-9e69-8b597ff73656\">\n",
              "    <div class=\"colab-df-container\">\n",
              "      <div>\n",
              "<style scoped>\n",
              "    .dataframe tbody tr th:only-of-type {\n",
              "        vertical-align: middle;\n",
              "    }\n",
              "\n",
              "    .dataframe tbody tr th {\n",
              "        vertical-align: top;\n",
              "    }\n",
              "\n",
              "    .dataframe thead th {\n",
              "        text-align: right;\n",
              "    }\n",
              "</style>\n",
              "<table border=\"1\" class=\"dataframe\">\n",
              "  <thead>\n",
              "    <tr style=\"text-align: right;\">\n",
              "      <th></th>\n",
              "      <th>log compute</th>\n",
              "      <th>params</th>\n",
              "      <th>log params</th>\n",
              "    </tr>\n",
              "  </thead>\n",
              "  <tbody>\n",
              "    <tr>\n",
              "      <th>0</th>\n",
              "      <td>7.000000</td>\n",
              "      <td>1960</td>\n",
              "      <td>3.292256</td>\n",
              "    </tr>\n",
              "    <tr>\n",
              "      <th>1</th>\n",
              "      <td>7.444444</td>\n",
              "      <td>1960</td>\n",
              "      <td>3.292256</td>\n",
              "    </tr>\n",
              "    <tr>\n",
              "      <th>2</th>\n",
              "      <td>7.888889</td>\n",
              "      <td>1960</td>\n",
              "      <td>3.292256</td>\n",
              "    </tr>\n",
              "    <tr>\n",
              "      <th>3</th>\n",
              "      <td>8.333333</td>\n",
              "      <td>1960</td>\n",
              "      <td>3.292256</td>\n",
              "    </tr>\n",
              "    <tr>\n",
              "      <th>4</th>\n",
              "      <td>8.777778</td>\n",
              "      <td>7810</td>\n",
              "      <td>3.892651</td>\n",
              "    </tr>\n",
              "  </tbody>\n",
              "</table>\n",
              "</div>\n",
              "      <button class=\"colab-df-convert\" onclick=\"convertToInteractive('df-6f6d8fa3-76b8-461d-9e69-8b597ff73656')\"\n",
              "              title=\"Convert this dataframe to an interactive table.\"\n",
              "              style=\"display:none;\">\n",
              "        \n",
              "  <svg xmlns=\"http://www.w3.org/2000/svg\" height=\"24px\"viewBox=\"0 0 24 24\"\n",
              "       width=\"24px\">\n",
              "    <path d=\"M0 0h24v24H0V0z\" fill=\"none\"/>\n",
              "    <path d=\"M18.56 5.44l.94 2.06.94-2.06 2.06-.94-2.06-.94-.94-2.06-.94 2.06-2.06.94zm-11 1L8.5 8.5l.94-2.06 2.06-.94-2.06-.94L8.5 2.5l-.94 2.06-2.06.94zm10 10l.94 2.06.94-2.06 2.06-.94-2.06-.94-.94-2.06-.94 2.06-2.06.94z\"/><path d=\"M17.41 7.96l-1.37-1.37c-.4-.4-.92-.59-1.43-.59-.52 0-1.04.2-1.43.59L10.3 9.45l-7.72 7.72c-.78.78-.78 2.05 0 2.83L4 21.41c.39.39.9.59 1.41.59.51 0 1.02-.2 1.41-.59l7.78-7.78 2.81-2.81c.8-.78.8-2.07 0-2.86zM5.41 20L4 18.59l7.72-7.72 1.47 1.35L5.41 20z\"/>\n",
              "  </svg>\n",
              "      </button>\n",
              "      \n",
              "  <style>\n",
              "    .colab-df-container {\n",
              "      display:flex;\n",
              "      flex-wrap:wrap;\n",
              "      gap: 12px;\n",
              "    }\n",
              "\n",
              "    .colab-df-convert {\n",
              "      background-color: #E8F0FE;\n",
              "      border: none;\n",
              "      border-radius: 50%;\n",
              "      cursor: pointer;\n",
              "      display: none;\n",
              "      fill: #1967D2;\n",
              "      height: 32px;\n",
              "      padding: 0 0 0 0;\n",
              "      width: 32px;\n",
              "    }\n",
              "\n",
              "    .colab-df-convert:hover {\n",
              "      background-color: #E2EBFA;\n",
              "      box-shadow: 0px 1px 2px rgba(60, 64, 67, 0.3), 0px 1px 3px 1px rgba(60, 64, 67, 0.15);\n",
              "      fill: #174EA6;\n",
              "    }\n",
              "\n",
              "    [theme=dark] .colab-df-convert {\n",
              "      background-color: #3B4455;\n",
              "      fill: #D2E3FC;\n",
              "    }\n",
              "\n",
              "    [theme=dark] .colab-df-convert:hover {\n",
              "      background-color: #434B5C;\n",
              "      box-shadow: 0px 1px 3px 1px rgba(0, 0, 0, 0.15);\n",
              "      filter: drop-shadow(0px 1px 2px rgba(0, 0, 0, 0.3));\n",
              "      fill: #FFFFFF;\n",
              "    }\n",
              "  </style>\n",
              "\n",
              "      <script>\n",
              "        const buttonEl =\n",
              "          document.querySelector('#df-6f6d8fa3-76b8-461d-9e69-8b597ff73656 button.colab-df-convert');\n",
              "        buttonEl.style.display =\n",
              "          google.colab.kernel.accessAllowed ? 'block' : 'none';\n",
              "\n",
              "        async function convertToInteractive(key) {\n",
              "          const element = document.querySelector('#df-6f6d8fa3-76b8-461d-9e69-8b597ff73656');\n",
              "          const dataTable =\n",
              "            await google.colab.kernel.invokeFunction('convertToInteractive',\n",
              "                                                     [key], {});\n",
              "          if (!dataTable) return;\n",
              "\n",
              "          const docLinkHtml = 'Like what you see? Visit the ' +\n",
              "            '<a target=\"_blank\" href=https://colab.research.google.com/notebooks/data_table.ipynb>data table notebook</a>'\n",
              "            + ' to learn more about interactive tables.';\n",
              "          element.innerHTML = '';\n",
              "          dataTable['output_type'] = 'display_data';\n",
              "          await google.colab.output.renderOutput(dataTable, element);\n",
              "          const docLink = document.createElement('div');\n",
              "          docLink.innerHTML = docLinkHtml;\n",
              "          element.appendChild(docLink);\n",
              "        }\n",
              "      </script>\n",
              "    </div>\n",
              "  </div>\n",
              "  "
            ]
          },
          "metadata": {},
          "execution_count": 48
        }
      ]
    },
    {
      "cell_type": "code",
      "source": [
        "sns.lmplot(data=df, x='log compute', y='log params');"
      ],
      "metadata": {
        "colab": {
          "base_uri": "https://localhost:8080/",
          "height": 369
        },
        "id": "MmBO_P1VnSXn",
        "outputId": "dc46f9d2-1ae7-48cb-c920-aee449656d13"
      },
      "execution_count": 49,
      "outputs": [
        {
          "output_type": "display_data",
          "data": {
            "text/plain": [
              "<Figure size 360x360 with 1 Axes>"
            ],
            "image/png": "[encoded data removed]"
          },
          "metadata": {
            "needs_background": "light"
          }
        }
      ]
    },
    {
      "cell_type": "code",
      "source": [
        "# analyze N_opt(C) power law\n",
        "slope, intercept, r_value, p_value, std_err = stats.linregress(df['log compute'],df['log params'])\n",
        "print(f\"slope: {slope}, intercept: {intercept}\")"
      ],
      "metadata": {
        "colab": {
          "base_uri": "https://localhost:8080/"
        },
        "id": "MvyH8EwsztKu",
        "outputId": "a668ff8e-643c-42f8-9f7b-ccb8a21a4708"
      },
      "execution_count": 50,
      "outputs": [
        {
          "output_type": "stream",
          "name": "stdout",
          "text": [
            "slope: 0.3605696974171262, intercept: 0.587844692909465\n"
          ]
        }
      ]
    },
    {
      "cell_type": "markdown",
      "source": [
        "Finally, dataset size scaling laws"
      ],
      "metadata": {
        "id": "LsSW3Qi3nVuK"
      }
    },
    {
      "cell_type": "code",
      "source": [
        "# new train function that will take dataset scaling_factor arg\n",
        "# we use dataset size of len(train_dataset) // scaling_factor\n",
        "# we will use powers of 2: 1, 2, 4, 8, 16\n",
        "def train_subset(model, optimizer, scaling_factor):\n",
        "    model.train()\n",
        "    print(f\"training model with: {model.num_params} parameters\")\n",
        "    train_subset = torch.utils.data.Subset(train_dataset, range(0, len(train_dataset) // scaling_factor))\n",
        "    train_loader_subset = torch.utils.data.DataLoader(dataset=train_subset,\n",
        "                                           batch_size=batch_size,\n",
        "                                           shuffle=True)\n",
        "    print(f\"dataset size: {len(train_loader_subset.dataset)}, {1/scaling_factor} of full train_dataset\")\n",
        "    pbar = tqdm(enumerate(train_loader_subset), total=len(train_loader_subset))\n",
        "    for it, (images, labels) in pbar:  \n",
        "        images = images.to(device)\n",
        "        labels = labels.to(device)\n",
        "        \n",
        "        #Forward pass\n",
        "        outputs = model(images)\n",
        "        loss = loss_fn(outputs, labels)\n",
        "            \n",
        "        # Backward and optimize\n",
        "        optimizer.zero_grad()\n",
        "        loss.backward()\n",
        "        optimizer.step()\n",
        "\n",
        "        pbar.set_description(f\"iter {it}: train loss {loss.item():.5f}\")"
      ],
      "metadata": {
        "id": "3Ax186p8nVQE"
      },
      "execution_count": 51,
      "outputs": []
    },
    {
      "cell_type": "code",
      "source": [
        "model = WideConvNet(scaling_factor=2**5, dropout=0.2).to(device)\n",
        "loss_fn = nn.CrossEntropyLoss()\n",
        "optimizer = torch.optim.Adam(model.parameters(), lr=LR(model.num_params))"
      ],
      "metadata": {
        "colab": {
          "base_uri": "https://localhost:8080/"
        },
        "id": "W7qzxRxoncvl",
        "outputId": "83d96581-9c5d-4cf5-9fd5-ffcbb789b68c"
      },
      "execution_count": 52,
      "outputs": [
        {
          "output_type": "stream",
          "name": "stdout",
          "text": [
            "num params: 62410\n"
          ]
        }
      ]
    },
    {
      "cell_type": "code",
      "source": [
        "# now train / test multiple models to observe dataset size scaling laws\n",
        "# scaling factors: sqrt(2)^0, sqrt(2)^1, ..., sqrt(2)^4\n",
        "num_datasets = 5\n",
        "num_trials = 5\n",
        "dataset_size = [0] * num_datasets\n",
        "test_loss = [0] * num_datasets\n",
        "accuracy = [0] * num_datasets\n",
        "for power in range(num_datasets):\n",
        "    for _ in range(num_trials):\n",
        "        model = WideConvNet(scaling_factor=2**5, dropout=0.2).to(device)\n",
        "        loss_fn = nn.CrossEntropyLoss()\n",
        "        optimizer = torch.optim.Adam(model.parameters(), lr=LR(model.num_params))\n",
        "        train_subset(model, optimizer, scaling_factor=2**power)\n",
        "        tloss, acc = test(model)\n",
        "        test_loss[power] += tloss\n",
        "        accuracy[power] += acc\n",
        "        print(\"\\n\")\n",
        "    dataset_size[power] = len(train_dataset) // 2**power\n",
        "    params[power] = model.num_params\n",
        "    test_loss[power] /= num_trials\n",
        "    accuracy[power] /= num_trials"
      ],
      "metadata": {
        "id": "wPIFMGJFniTs"
      },
      "execution_count": null,
      "outputs": []
    },
    {
      "cell_type": "code",
      "source": [
        "data = {'dataset_size' : dataset_size, 'loss': test_loss, 'accuracy': accuracy} \n",
        "df = pd.DataFrame(data)\n",
        "df['log dataset_size'] = np.log10(df['dataset_size'])\n",
        "df['log loss'] = np.log10(df['loss'])\n",
        "df"
      ],
      "metadata": {
        "colab": {
          "base_uri": "https://localhost:8080/",
          "height": 206
        },
        "id": "w73Gg2SCnk4u",
        "outputId": "d859ec1e-0f00-4e08-f73f-b63d0bdda278"
      },
      "execution_count": 54,
      "outputs": [
        {
          "output_type": "execute_result",
          "data": {
            "text/plain": [
              "   dataset_size      loss  accuracy  log dataset_size  log loss\n",
              "0         60000  0.079314   0.97430          4.778151 -1.100649\n",
              "1         30000  0.105308   0.96860          4.477121 -0.977537\n",
              "2         15000  0.154984   0.95578          4.176091 -0.809714\n",
              "3          7500  0.256372   0.92566          3.875061 -0.591129\n",
              "4          3750  0.379217   0.88540          3.574031 -0.421113"
            ],
            "text/html": [
              "\n",
              "  <div id=\"df-1b47c10c-d087-498c-a9b0-0a0b503d2dea\">\n",
              "    <div class=\"colab-df-container\">\n",
              "      <div>\n",
              "<style scoped>\n",
              "    .dataframe tbody tr th:only-of-type {\n",
              "        vertical-align: middle;\n",
              "    }\n",
              "\n",
              "    .dataframe tbody tr th {\n",
              "        vertical-align: top;\n",
              "    }\n",
              "\n",
              "    .dataframe thead th {\n",
              "        text-align: right;\n",
              "    }\n",
              "</style>\n",
              "<table border=\"1\" class=\"dataframe\">\n",
              "  <thead>\n",
              "    <tr style=\"text-align: right;\">\n",
              "      <th></th>\n",
              "      <th>dataset_size</th>\n",
              "      <th>loss</th>\n",
              "      <th>accuracy</th>\n",
              "      <th>log dataset_size</th>\n",
              "      <th>log loss</th>\n",
              "    </tr>\n",
              "  </thead>\n",
              "  <tbody>\n",
              "    <tr>\n",
              "      <th>0</th>\n",
              "      <td>60000</td>\n",
              "      <td>0.079314</td>\n",
              "      <td>0.97430</td>\n",
              "      <td>4.778151</td>\n",
              "      <td>-1.100649</td>\n",
              "    </tr>\n",
              "    <tr>\n",
              "      <th>1</th>\n",
              "      <td>30000</td>\n",
              "      <td>0.105308</td>\n",
              "      <td>0.96860</td>\n",
              "      <td>4.477121</td>\n",
              "      <td>-0.977537</td>\n",
              "    </tr>\n",
              "    <tr>\n",
              "      <th>2</th>\n",
              "      <td>15000</td>\n",
              "      <td>0.154984</td>\n",
              "      <td>0.95578</td>\n",
              "      <td>4.176091</td>\n",
              "      <td>-0.809714</td>\n",
              "    </tr>\n",
              "    <tr>\n",
              "      <th>3</th>\n",
              "      <td>7500</td>\n",
              "      <td>0.256372</td>\n",
              "      <td>0.92566</td>\n",
              "      <td>3.875061</td>\n",
              "      <td>-0.591129</td>\n",
              "    </tr>\n",
              "    <tr>\n",
              "      <th>4</th>\n",
              "      <td>3750</td>\n",
              "      <td>0.379217</td>\n",
              "      <td>0.88540</td>\n",
              "      <td>3.574031</td>\n",
              "      <td>-0.421113</td>\n",
              "    </tr>\n",
              "  </tbody>\n",
              "</table>\n",
              "</div>\n",
              "      <button class=\"colab-df-convert\" onclick=\"convertToInteractive('df-1b47c10c-d087-498c-a9b0-0a0b503d2dea')\"\n",
              "              title=\"Convert this dataframe to an interactive table.\"\n",
              "              style=\"display:none;\">\n",
              "        \n",
              "  <svg xmlns=\"http://www.w3.org/2000/svg\" height=\"24px\"viewBox=\"0 0 24 24\"\n",
              "       width=\"24px\">\n",
              "    <path d=\"M0 0h24v24H0V0z\" fill=\"none\"/>\n",
              "    <path d=\"M18.56 5.44l.94 2.06.94-2.06 2.06-.94-2.06-.94-.94-2.06-.94 2.06-2.06.94zm-11 1L8.5 8.5l.94-2.06 2.06-.94-2.06-.94L8.5 2.5l-.94 2.06-2.06.94zm10 10l.94 2.06.94-2.06 2.06-.94-2.06-.94-.94-2.06-.94 2.06-2.06.94z\"/><path d=\"M17.41 7.96l-1.37-1.37c-.4-.4-.92-.59-1.43-.59-.52 0-1.04.2-1.43.59L10.3 9.45l-7.72 7.72c-.78.78-.78 2.05 0 2.83L4 21.41c.39.39.9.59 1.41.59.51 0 1.02-.2 1.41-.59l7.78-7.78 2.81-2.81c.8-.78.8-2.07 0-2.86zM5.41 20L4 18.59l7.72-7.72 1.47 1.35L5.41 20z\"/>\n",
              "  </svg>\n",
              "      </button>\n",
              "      \n",
              "  <style>\n",
              "    .colab-df-container {\n",
              "      display:flex;\n",
              "      flex-wrap:wrap;\n",
              "      gap: 12px;\n",
              "    }\n",
              "\n",
              "    .colab-df-convert {\n",
              "      background-color: #E8F0FE;\n",
              "      border: none;\n",
              "      border-radius: 50%;\n",
              "      cursor: pointer;\n",
              "      display: none;\n",
              "      fill: #1967D2;\n",
              "      height: 32px;\n",
              "      padding: 0 0 0 0;\n",
              "      width: 32px;\n",
              "    }\n",
              "\n",
              "    .colab-df-convert:hover {\n",
              "      background-color: #E2EBFA;\n",
              "      box-shadow: 0px 1px 2px rgba(60, 64, 67, 0.3), 0px 1px 3px 1px rgba(60, 64, 67, 0.15);\n",
              "      fill: #174EA6;\n",
              "    }\n",
              "\n",
              "    [theme=dark] .colab-df-convert {\n",
              "      background-color: #3B4455;\n",
              "      fill: #D2E3FC;\n",
              "    }\n",
              "\n",
              "    [theme=dark] .colab-df-convert:hover {\n",
              "      background-color: #434B5C;\n",
              "      box-shadow: 0px 1px 3px 1px rgba(0, 0, 0, 0.15);\n",
              "      filter: drop-shadow(0px 1px 2px rgba(0, 0, 0, 0.3));\n",
              "      fill: #FFFFFF;\n",
              "    }\n",
              "  </style>\n",
              "\n",
              "      <script>\n",
              "        const buttonEl =\n",
              "          document.querySelector('#df-1b47c10c-d087-498c-a9b0-0a0b503d2dea button.colab-df-convert');\n",
              "        buttonEl.style.display =\n",
              "          google.colab.kernel.accessAllowed ? 'block' : 'none';\n",
              "\n",
              "        async function convertToInteractive(key) {\n",
              "          const element = document.querySelector('#df-1b47c10c-d087-498c-a9b0-0a0b503d2dea');\n",
              "          const dataTable =\n",
              "            await google.colab.kernel.invokeFunction('convertToInteractive',\n",
              "                                                     [key], {});\n",
              "          if (!dataTable) return;\n",
              "\n",
              "          const docLinkHtml = 'Like what you see? Visit the ' +\n",
              "            '<a target=\"_blank\" href=https://colab.research.google.com/notebooks/data_table.ipynb>data table notebook</a>'\n",
              "            + ' to learn more about interactive tables.';\n",
              "          element.innerHTML = '';\n",
              "          dataTable['output_type'] = 'display_data';\n",
              "          await google.colab.output.renderOutput(dataTable, element);\n",
              "          const docLink = document.createElement('div');\n",
              "          docLink.innerHTML = docLinkHtml;\n",
              "          element.appendChild(docLink);\n",
              "        }\n",
              "      </script>\n",
              "    </div>\n",
              "  </div>\n",
              "  "
            ]
          },
          "metadata": {},
          "execution_count": 54
        }
      ]
    },
    {
      "cell_type": "code",
      "source": [
        "sns.scatterplot(data=df, x=\"dataset_size\", y=\"loss\")"
      ],
      "metadata": {
        "colab": {
          "base_uri": "https://localhost:8080/",
          "height": 298
        },
        "id": "pBc5ZaG5nnlD",
        "outputId": "62f16491-35d5-422a-df4a-a268c456d573"
      },
      "execution_count": 55,
      "outputs": [
        {
          "output_type": "execute_result",
          "data": {
            "text/plain": [
              "<matplotlib.axes._subplots.AxesSubplot at 0x7ff38ca0ee50>"
            ]
          },
          "metadata": {},
          "execution_count": 55
        },
        {
          "output_type": "display_data",
          "data": {
            "text/plain": [
              "<Figure size 432x288 with 1 Axes>"
            ],
            "image/png": "[encoded data removed]"
          },
          "metadata": {
            "needs_background": "light"
          }
        }
      ]
    },
    {
      "cell_type": "code",
      "source": [
        "sns.lmplot(data=df, x=\"log dataset_size\", y=\"log loss\");"
      ],
      "metadata": {
        "colab": {
          "base_uri": "https://localhost:8080/",
          "height": 369
        },
        "id": "t2UX93Tnnv1y",
        "outputId": "5c9fd85c-ff18-4155-9cae-cd2a0c7ca8b3"
      },
      "execution_count": 56,
      "outputs": [
        {
          "output_type": "display_data",
          "data": {
            "text/plain": [
              "<Figure size 360x360 with 1 Axes>"
            ],
            "image/png": "[encoded data removed]"
          },
          "metadata": {
            "needs_background": "light"
          }
        }
      ]
    },
    {
      "cell_type": "code",
      "source": [
        "# analyze L(D) power law\n",
        "slope, intercept, r_value, p_value, std_err = stats.linregress(df['log dataset_size'],df['log loss'])\n",
        "print(f\"slope: {slope}, intercept: {intercept}\")"
      ],
      "metadata": {
        "colab": {
          "base_uri": "https://localhost:8080/"
        },
        "id": "M_20CfL6zyng",
        "outputId": "b9677e4e-d526-4408-ee13-fe654d7b26bf"
      },
      "execution_count": 57,
      "outputs": [
        {
          "output_type": "stream",
          "name": "stdout",
          "text": [
            "slope: -0.5798363818516615, intercept: 1.641421280651655\n"
          ]
        }
      ]
    },
    {
      "cell_type": "markdown",
      "source": [
        "In this run, it looks like the dropout didn't make much of a difference..."
      ],
      "metadata": {
        "id": "RkvGLOA2H4hz"
      }
    }
  ]
}